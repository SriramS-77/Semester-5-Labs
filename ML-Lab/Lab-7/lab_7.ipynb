{
 "cells": [
  {
   "cell_type": "code",
   "execution_count": 1,
   "id": "bef344ef",
   "metadata": {},
   "outputs": [],
   "source": [
    "import numpy as np\n",
    "import pandas as pd\n",
    "import matplotlib.pyplot as plt"
   ]
  },
  {
   "cell_type": "markdown",
   "id": "e17b5630",
   "metadata": {},
   "source": [
    "----------------------\n",
    "## Question 1\n",
    "----------------------"
   ]
  },
  {
   "cell_type": "code",
   "execution_count": 9,
   "id": "49355f91",
   "metadata": {},
   "outputs": [
    {
     "name": "stdout",
     "output_type": "stream",
     "text": [
      "Probablitiy of hostel: 0.6923076923076923 \n",
      "Probability of day-scholar: 0.3076923076923077\n"
     ]
    }
   ],
   "source": [
    "hostel_p = .6\n",
    "day_p = .4\n",
    "A_hostel_p = .3\n",
    "A_day_p = .2\n",
    "\n",
    "p_hostel_given_A = .3 * .6 / (.3 * .6 + .2 * .4)\n",
    "p_day_given_A = 1 - p_hostel_given_A\n",
    "\n",
    "print(f\"Probablitiy of hostel: {p_hostel_given_A} \\nProbability of day-scholar: {p_day_given_A}\")"
   ]
  },
  {
   "cell_type": "code",
   "execution_count": 10,
   "id": "24170188",
   "metadata": {},
   "outputs": [
    {
     "name": "stdout",
     "output_type": "stream",
     "text": [
      "Probablitiy of having disease: 0.3333333333333333 \n",
      "Probability of not having disease: 0.6666666666666667\n"
     ]
    }
   ],
   "source": [
    "p_disease = .01\n",
    "p_true_positve = .99\n",
    "p_false_positive = .02\n",
    "\n",
    "p_disease_given_positive = .01 * .99 / (.01 * .99 + .99 * .02)\n",
    "p_healthy_given_positive = 1 - p_disease_given_positive\n",
    "\n",
    "print(f\"Probablitiy of having disease: {p_disease_given_positive} \\nProbability of not having disease: {p_healthy_given_positive}\")"
   ]
  },
  {
   "cell_type": "markdown",
   "id": "18da1f8a",
   "metadata": {},
   "source": [
    "----------------------\n",
    "## Question 2\n",
    "----------------------"
   ]
  },
  {
   "cell_type": "code",
   "execution_count": 14,
   "id": "0d8b6b7e",
   "metadata": {},
   "outputs": [
    {
     "data": {
      "text/html": [
       "<div>\n",
       "<style scoped>\n",
       "    .dataframe tbody tr th:only-of-type {\n",
       "        vertical-align: middle;\n",
       "    }\n",
       "\n",
       "    .dataframe tbody tr th {\n",
       "        vertical-align: top;\n",
       "    }\n",
       "\n",
       "    .dataframe thead th {\n",
       "        text-align: right;\n",
       "    }\n",
       "</style>\n",
       "<table border=\"1\" class=\"dataframe\">\n",
       "  <thead>\n",
       "    <tr style=\"text-align: right;\">\n",
       "      <th></th>\n",
       "      <th>age</th>\n",
       "      <th>income</th>\n",
       "      <th>student</th>\n",
       "      <th>credit</th>\n",
       "      <th>computer</th>\n",
       "    </tr>\n",
       "  </thead>\n",
       "  <tbody>\n",
       "    <tr>\n",
       "      <th>0</th>\n",
       "      <td>&lt;=30</td>\n",
       "      <td>high</td>\n",
       "      <td>no</td>\n",
       "      <td>fair</td>\n",
       "      <td>no</td>\n",
       "    </tr>\n",
       "    <tr>\n",
       "      <th>1</th>\n",
       "      <td>&lt;=30</td>\n",
       "      <td>high</td>\n",
       "      <td>no</td>\n",
       "      <td>excellent</td>\n",
       "      <td>no</td>\n",
       "    </tr>\n",
       "    <tr>\n",
       "      <th>2</th>\n",
       "      <td>31...40</td>\n",
       "      <td>high</td>\n",
       "      <td>no</td>\n",
       "      <td>fair</td>\n",
       "      <td>yes</td>\n",
       "    </tr>\n",
       "  </tbody>\n",
       "</table>\n",
       "</div>"
      ],
      "text/plain": [
       "       age income student     credit computer\n",
       "0     <=30   high      no       fair       no\n",
       "1     <=30   high      no  excellent       no\n",
       "2  31...40   high      no       fair      yes"
      ]
     },
     "execution_count": 14,
     "metadata": {},
     "output_type": "execute_result"
    }
   ],
   "source": [
    "df = pd.read_csv('data.csv')\n",
    "df.head(3)"
   ]
  },
  {
   "cell_type": "code",
   "execution_count": 16,
   "id": "4b5e6bb5",
   "metadata": {},
   "outputs": [
    {
     "data": {
      "text/plain": [
       "14"
      ]
     },
     "execution_count": 16,
     "metadata": {},
     "output_type": "execute_result"
    }
   ],
   "source": [
    "len(df)"
   ]
  },
  {
   "cell_type": "code",
   "execution_count": 19,
   "id": "78d6363d",
   "metadata": {},
   "outputs": [
    {
     "data": {
      "text/plain": [
       "4"
      ]
     },
     "execution_count": 19,
     "metadata": {},
     "output_type": "execute_result"
    }
   ],
   "source": [
    "len(df[df[\"income\"] == \"high\"])"
   ]
  },
  {
   "cell_type": "code",
   "execution_count": 28,
   "id": "2991697d",
   "metadata": {},
   "outputs": [
    {
     "data": {
      "text/plain": [
       "4"
      ]
     },
     "execution_count": 28,
     "metadata": {},
     "output_type": "execute_result"
    }
   ],
   "source": [
    "df.income.value_counts().high"
   ]
  },
  {
   "cell_type": "code",
   "execution_count": 33,
   "id": "8c256ec0",
   "metadata": {},
   "outputs": [],
   "source": [
    "def naive(df):\n",
    "    cols = list(df.columns)\n",
    "    col_vals = []\n",
    "    for i in cols[:-1]:\n",
    "        col_vals.append(input(f\"Enter value for {i}: \").lower().strip())\n",
    "    predict_val = input(f\"Enter value of {cols[-1]} to find probability: \").lower().strip()\n",
    "    predict_col = cols[-1]\n",
    "    \n",
    "    total_cnt = len(df)\n",
    "    filtered_df = df[df[predict_col] == predict_val]\n",
    "    predict_val_cnt = len(filtered_df)\n",
    "    P_predict_val = predict_val_cnt / total_cnt\n",
    "    \n",
    "    P = 1\n",
    "    for i in range(len(col_vals)):\n",
    "        val = col_vals[i]\n",
    "        P *= filtered_df[cols[i]].value_counts()[val] / total_cnt / P_predict_val\n",
    "        P /= df[cols[i]].value_counts()[val] / total_cnt\n",
    "    P *= P_predict_val\n",
    "    return P"
   ]
  },
  {
   "cell_type": "code",
   "execution_count": 38,
   "id": "6c5dd1fc",
   "metadata": {},
   "outputs": [
    {
     "name": "stdout",
     "output_type": "stream",
     "text": [
      "Enter value for age: <=30\n",
      "Enter value for income: medium\n",
      "Enter value for student: yes\n",
      "Enter value for credit: fair\n",
      "Enter value of computer to find probability: yes\n",
      "\n",
      "\n",
      "Probability: 0.6452674897119342 \n",
      "This person got computer: True\n"
     ]
    }
   ],
   "source": [
    "p = naive(df)\n",
    "classification = p >= .5\n",
    "\n",
    "print(f\"\\n\\nProbability: {p} \\nThis person got computer: {classification}\")"
   ]
  },
  {
   "cell_type": "markdown",
   "id": "67d31b2a",
   "metadata": {},
   "source": [
    "-----------------------\n",
    "## Question 3\n",
    "-----------------------"
   ]
  },
  {
   "cell_type": "code",
   "execution_count": 84,
   "id": "908f811e",
   "metadata": {},
   "outputs": [
    {
     "data": {
      "text/html": [
       "<div>\n",
       "<style scoped>\n",
       "    .dataframe tbody tr th:only-of-type {\n",
       "        vertical-align: middle;\n",
       "    }\n",
       "\n",
       "    .dataframe tbody tr th {\n",
       "        vertical-align: top;\n",
       "    }\n",
       "\n",
       "    .dataframe thead th {\n",
       "        text-align: right;\n",
       "    }\n",
       "</style>\n",
       "<table border=\"1\" class=\"dataframe\">\n",
       "  <thead>\n",
       "    <tr style=\"text-align: right;\">\n",
       "      <th></th>\n",
       "      <th>text</th>\n",
       "      <th>tag</th>\n",
       "    </tr>\n",
       "  </thead>\n",
       "  <tbody>\n",
       "    <tr>\n",
       "      <th>0</th>\n",
       "      <td>A great game</td>\n",
       "      <td>Sports</td>\n",
       "    </tr>\n",
       "    <tr>\n",
       "      <th>1</th>\n",
       "      <td>The election was over</td>\n",
       "      <td>Not sports</td>\n",
       "    </tr>\n",
       "    <tr>\n",
       "      <th>2</th>\n",
       "      <td>Very clean match</td>\n",
       "      <td>Sports</td>\n",
       "    </tr>\n",
       "  </tbody>\n",
       "</table>\n",
       "</div>"
      ],
      "text/plain": [
       "                    text         tag\n",
       "0           A great game      Sports\n",
       "1  The election was over  Not sports\n",
       "2       Very clean match      Sports"
      ]
     },
     "execution_count": 84,
     "metadata": {},
     "output_type": "execute_result"
    }
   ],
   "source": [
    "df = pd.read_csv('text.csv')\n",
    "df.head(3)"
   ]
  },
  {
   "cell_type": "code",
   "execution_count": 85,
   "id": "991e4b05",
   "metadata": {},
   "outputs": [
    {
     "data": {
      "text/html": [
       "<div>\n",
       "<style scoped>\n",
       "    .dataframe tbody tr th:only-of-type {\n",
       "        vertical-align: middle;\n",
       "    }\n",
       "\n",
       "    .dataframe tbody tr th {\n",
       "        vertical-align: top;\n",
       "    }\n",
       "\n",
       "    .dataframe thead th {\n",
       "        text-align: right;\n",
       "    }\n",
       "</style>\n",
       "<table border=\"1\" class=\"dataframe\">\n",
       "  <thead>\n",
       "    <tr style=\"text-align: right;\">\n",
       "      <th></th>\n",
       "      <th>text</th>\n",
       "      <th>tag</th>\n",
       "      <th>words</th>\n",
       "    </tr>\n",
       "  </thead>\n",
       "  <tbody>\n",
       "    <tr>\n",
       "      <th>0</th>\n",
       "      <td>A great game</td>\n",
       "      <td>Sports</td>\n",
       "      <td>[a, great, game]</td>\n",
       "    </tr>\n",
       "    <tr>\n",
       "      <th>1</th>\n",
       "      <td>The election was over</td>\n",
       "      <td>Not sports</td>\n",
       "      <td>[the, election, was, over]</td>\n",
       "    </tr>\n",
       "    <tr>\n",
       "      <th>2</th>\n",
       "      <td>Very clean match</td>\n",
       "      <td>Sports</td>\n",
       "      <td>[very, clean, match]</td>\n",
       "    </tr>\n",
       "    <tr>\n",
       "      <th>3</th>\n",
       "      <td>A clean but forgettable game</td>\n",
       "      <td>Sports</td>\n",
       "      <td>[a, clean, but, forgettable, game]</td>\n",
       "    </tr>\n",
       "    <tr>\n",
       "      <th>4</th>\n",
       "      <td>It was a close election</td>\n",
       "      <td>Not sports</td>\n",
       "      <td>[it, was, a, close, election]</td>\n",
       "    </tr>\n",
       "  </tbody>\n",
       "</table>\n",
       "</div>"
      ],
      "text/plain": [
       "                           text         tag  \\\n",
       "0                  A great game      Sports   \n",
       "1         The election was over  Not sports   \n",
       "2              Very clean match      Sports   \n",
       "3  A clean but forgettable game      Sports   \n",
       "4       It was a close election  Not sports   \n",
       "\n",
       "                                words  \n",
       "0                    [a, great, game]  \n",
       "1          [the, election, was, over]  \n",
       "2                [very, clean, match]  \n",
       "3  [a, clean, but, forgettable, game]  \n",
       "4       [it, was, a, close, election]  "
      ]
     },
     "execution_count": 85,
     "metadata": {},
     "output_type": "execute_result"
    }
   ],
   "source": [
    "df['words'] = df['text'].apply(lambda x: x.lower().split())\n",
    "df"
   ]
  },
  {
   "cell_type": "code",
   "execution_count": 131,
   "id": "dfeab25c",
   "metadata": {},
   "outputs": [
    {
     "data": {
      "text/plain": [
       "[{'word': 'a', 'tag': 'Sports'},\n",
       " {'word': 'great', 'tag': 'Sports'},\n",
       " {'word': 'game', 'tag': 'Sports'},\n",
       " {'word': 'the', 'tag': 'Not sports'},\n",
       " {'word': 'election', 'tag': 'Not sports'},\n",
       " {'word': 'was', 'tag': 'Not sports'},\n",
       " {'word': 'over', 'tag': 'Not sports'},\n",
       " {'word': 'very', 'tag': 'Sports'},\n",
       " {'word': 'clean', 'tag': 'Sports'},\n",
       " {'word': 'match', 'tag': 'Sports'},\n",
       " {'word': 'a', 'tag': 'Sports'},\n",
       " {'word': 'clean', 'tag': 'Sports'},\n",
       " {'word': 'but', 'tag': 'Sports'},\n",
       " {'word': 'forgettable', 'tag': 'Sports'},\n",
       " {'word': 'game', 'tag': 'Sports'},\n",
       " {'word': 'it', 'tag': 'Not sports'},\n",
       " {'word': 'was', 'tag': 'Not sports'},\n",
       " {'word': 'a', 'tag': 'Not sports'},\n",
       " {'word': 'close', 'tag': 'Not sports'},\n",
       " {'word': 'election', 'tag': 'Not sports'}]"
      ]
     },
     "execution_count": 131,
     "metadata": {},
     "output_type": "execute_result"
    }
   ],
   "source": [
    "def lamb(x, lst):\n",
    "    for word in x['words']:\n",
    "        lst.append({'word': word, 'tag': x['tag']}) \n",
    "    #for word in x['words']:\n",
    "    #    if word in lst.keys():\n",
    "    #        lst[word][x['tag'].lower()] += 1\n",
    "    #    else:\n",
    "    #        lst[word] = {\"sports\": 0, \"not sports\": 0}\n",
    "\n",
    "    \n",
    "dct_words = []\n",
    "df.iloc[:, :].apply(lambda x: lamb(x, dct_words), axis=1)\n",
    "dct_words"
   ]
  },
  {
   "cell_type": "code",
   "execution_count": 132,
   "id": "dc760880",
   "metadata": {},
   "outputs": [
    {
     "data": {
      "text/html": [
       "<div>\n",
       "<style scoped>\n",
       "    .dataframe tbody tr th:only-of-type {\n",
       "        vertical-align: middle;\n",
       "    }\n",
       "\n",
       "    .dataframe tbody tr th {\n",
       "        vertical-align: top;\n",
       "    }\n",
       "\n",
       "    .dataframe thead th {\n",
       "        text-align: right;\n",
       "    }\n",
       "</style>\n",
       "<table border=\"1\" class=\"dataframe\">\n",
       "  <thead>\n",
       "    <tr style=\"text-align: right;\">\n",
       "      <th></th>\n",
       "      <th>word</th>\n",
       "      <th>tag</th>\n",
       "    </tr>\n",
       "  </thead>\n",
       "  <tbody>\n",
       "    <tr>\n",
       "      <th>0</th>\n",
       "      <td>a</td>\n",
       "      <td>Sports</td>\n",
       "    </tr>\n",
       "    <tr>\n",
       "      <th>1</th>\n",
       "      <td>great</td>\n",
       "      <td>Sports</td>\n",
       "    </tr>\n",
       "    <tr>\n",
       "      <th>2</th>\n",
       "      <td>game</td>\n",
       "      <td>Sports</td>\n",
       "    </tr>\n",
       "    <tr>\n",
       "      <th>3</th>\n",
       "      <td>the</td>\n",
       "      <td>Not sports</td>\n",
       "    </tr>\n",
       "    <tr>\n",
       "      <th>4</th>\n",
       "      <td>election</td>\n",
       "      <td>Not sports</td>\n",
       "    </tr>\n",
       "    <tr>\n",
       "      <th>5</th>\n",
       "      <td>was</td>\n",
       "      <td>Not sports</td>\n",
       "    </tr>\n",
       "    <tr>\n",
       "      <th>6</th>\n",
       "      <td>over</td>\n",
       "      <td>Not sports</td>\n",
       "    </tr>\n",
       "    <tr>\n",
       "      <th>7</th>\n",
       "      <td>very</td>\n",
       "      <td>Sports</td>\n",
       "    </tr>\n",
       "    <tr>\n",
       "      <th>8</th>\n",
       "      <td>clean</td>\n",
       "      <td>Sports</td>\n",
       "    </tr>\n",
       "    <tr>\n",
       "      <th>9</th>\n",
       "      <td>match</td>\n",
       "      <td>Sports</td>\n",
       "    </tr>\n",
       "    <tr>\n",
       "      <th>10</th>\n",
       "      <td>a</td>\n",
       "      <td>Sports</td>\n",
       "    </tr>\n",
       "    <tr>\n",
       "      <th>11</th>\n",
       "      <td>clean</td>\n",
       "      <td>Sports</td>\n",
       "    </tr>\n",
       "    <tr>\n",
       "      <th>12</th>\n",
       "      <td>but</td>\n",
       "      <td>Sports</td>\n",
       "    </tr>\n",
       "    <tr>\n",
       "      <th>13</th>\n",
       "      <td>forgettable</td>\n",
       "      <td>Sports</td>\n",
       "    </tr>\n",
       "    <tr>\n",
       "      <th>14</th>\n",
       "      <td>game</td>\n",
       "      <td>Sports</td>\n",
       "    </tr>\n",
       "    <tr>\n",
       "      <th>15</th>\n",
       "      <td>it</td>\n",
       "      <td>Not sports</td>\n",
       "    </tr>\n",
       "    <tr>\n",
       "      <th>16</th>\n",
       "      <td>was</td>\n",
       "      <td>Not sports</td>\n",
       "    </tr>\n",
       "    <tr>\n",
       "      <th>17</th>\n",
       "      <td>a</td>\n",
       "      <td>Not sports</td>\n",
       "    </tr>\n",
       "    <tr>\n",
       "      <th>18</th>\n",
       "      <td>close</td>\n",
       "      <td>Not sports</td>\n",
       "    </tr>\n",
       "    <tr>\n",
       "      <th>19</th>\n",
       "      <td>election</td>\n",
       "      <td>Not sports</td>\n",
       "    </tr>\n",
       "  </tbody>\n",
       "</table>\n",
       "</div>"
      ],
      "text/plain": [
       "           word         tag\n",
       "0             a      Sports\n",
       "1         great      Sports\n",
       "2          game      Sports\n",
       "3           the  Not sports\n",
       "4      election  Not sports\n",
       "5           was  Not sports\n",
       "6          over  Not sports\n",
       "7          very      Sports\n",
       "8         clean      Sports\n",
       "9         match      Sports\n",
       "10            a      Sports\n",
       "11        clean      Sports\n",
       "12          but      Sports\n",
       "13  forgettable      Sports\n",
       "14         game      Sports\n",
       "15           it  Not sports\n",
       "16          was  Not sports\n",
       "17            a  Not sports\n",
       "18        close  Not sports\n",
       "19     election  Not sports"
      ]
     },
     "execution_count": 132,
     "metadata": {},
     "output_type": "execute_result"
    }
   ],
   "source": [
    "df_words = pd.DataFrame(dct_words)\n",
    "df_words"
   ]
  },
  {
   "cell_type": "code",
   "execution_count": 133,
   "id": "86a9ae98",
   "metadata": {},
   "outputs": [
    {
     "data": {
      "text/plain": [
       "11"
      ]
     },
     "execution_count": 133,
     "metadata": {},
     "output_type": "execute_result"
    }
   ],
   "source": [
    "filtered_df = df_words[df_words['tag'] == \"Sports\"]\n",
    "sports_cnt = len(filtered_df)\n",
    "total_cnt = len(df_words)\n",
    "sports_cnt"
   ]
  },
  {
   "cell_type": "code",
   "execution_count": 160,
   "id": "ce179dc4",
   "metadata": {},
   "outputs": [
    {
     "data": {
      "text/plain": [
       "['a',\n",
       " 'great',\n",
       " 'game',\n",
       " 'the',\n",
       " 'election',\n",
       " 'was',\n",
       " 'over',\n",
       " 'very',\n",
       " 'clean',\n",
       " 'match',\n",
       " 'but',\n",
       " 'forgettable',\n",
       " 'it',\n",
       " 'close']"
      ]
     },
     "execution_count": 160,
     "metadata": {},
     "output_type": "execute_result"
    }
   ],
   "source": [
    "lst = df_words['word'].unique()\n",
    "lst = list(lst)\n",
    "words_cnt = len(lst)\n",
    "lst"
   ]
  },
  {
   "cell_type": "code",
   "execution_count": 161,
   "id": "afaae2a1",
   "metadata": {},
   "outputs": [
    {
     "data": {
      "text/plain": [
       "word\n",
       "a              2\n",
       "game           2\n",
       "clean          2\n",
       "great          1\n",
       "very           1\n",
       "match          1\n",
       "but            1\n",
       "forgettable    1\n",
       "Name: count, dtype: int64"
      ]
     },
     "execution_count": 161,
     "metadata": {},
     "output_type": "execute_result"
    }
   ],
   "source": [
    "filtered_df.word.value_counts()"
   ]
  },
  {
   "cell_type": "code",
   "execution_count": 162,
   "id": "60771fe6",
   "metadata": {},
   "outputs": [
    {
     "data": {
      "text/plain": [
       "(11, 20, 14)"
      ]
     },
     "execution_count": 162,
     "metadata": {},
     "output_type": "execute_result"
    }
   ],
   "source": [
    "sports_cnt, total_cnt, words_cnt"
   ]
  },
  {
   "cell_type": "code",
   "execution_count": 165,
   "id": "92e37d71",
   "metadata": {},
   "outputs": [],
   "source": [
    "# Each unique words's count is appended by 1.\n",
    "\n",
    "def predict(test_data):\n",
    "    P = 1\n",
    "    for word in test_data:\n",
    "        word = word.lower().strip()\n",
    "        P *= (len(filtered_df[filtered_df.word == word]) + 1) / (sports_cnt + words_cnt)\n",
    "        #print((len(filtered_df[filtered_df.word == word]) + 1) / (sports_cnt + words_cnt), P)\n",
    "        P /= (len(df_words[df_words.word == word]) + 1) / (total_cnt + words_cnt)\n",
    "        #print(P)\n",
    "    P *= df.tag.value_counts()['Sports'] / len(df)\n",
    "    return P"
   ]
  },
  {
   "cell_type": "code",
   "execution_count": 166,
   "id": "cfaaebb6",
   "metadata": {},
   "outputs": [
    {
     "name": "stdout",
     "output_type": "stream",
     "text": [
      "Probability of Sports: 0.7697295359999999\n",
      "\n",
      "Probability of Not Sports: 0.23027046400000006\n"
     ]
    }
   ],
   "source": [
    "p = predict(\"A very close game\".split())\n",
    "\n",
    "print(f\"Probability of Sports: {p}\")\n",
    "print(f\"\\nProbability of Not Sports: {1 - p}\")"
   ]
  }
 ],
 "metadata": {
  "kernelspec": {
   "display_name": "Python 3 (ipykernel)",
   "language": "python",
   "name": "python3"
  },
  "language_info": {
   "codemirror_mode": {
    "name": "ipython",
    "version": 3
   },
   "file_extension": ".py",
   "mimetype": "text/x-python",
   "name": "python",
   "nbconvert_exporter": "python",
   "pygments_lexer": "ipython3",
   "version": "3.12.3"
  }
 },
 "nbformat": 4,
 "nbformat_minor": 5
}
