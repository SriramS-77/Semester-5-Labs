{
 "cells": [
  {
   "cell_type": "code",
   "execution_count": 1,
   "id": "4f182c1e",
   "metadata": {},
   "outputs": [],
   "source": [
    "import numpy as np\n",
    "import pandas as pd\n",
    "import matplotlib.pyplot as plt"
   ]
  },
  {
   "cell_type": "markdown",
   "id": "3e210f85",
   "metadata": {},
   "source": [
    "# Question - 1"
   ]
  },
  {
   "cell_type": "code",
   "execution_count": 8,
   "id": "d4ea1833",
   "metadata": {},
   "outputs": [
    {
     "data": {
      "text/html": [
       "<div>\n",
       "<style scoped>\n",
       "    .dataframe tbody tr th:only-of-type {\n",
       "        vertical-align: middle;\n",
       "    }\n",
       "\n",
       "    .dataframe tbody tr th {\n",
       "        vertical-align: top;\n",
       "    }\n",
       "\n",
       "    .dataframe thead th {\n",
       "        text-align: right;\n",
       "    }\n",
       "</style>\n",
       "<table border=\"1\" class=\"dataframe\">\n",
       "  <thead>\n",
       "    <tr style=\"text-align: right;\">\n",
       "      <th></th>\n",
       "      <th>day</th>\n",
       "      <th>outlook</th>\n",
       "      <th>temp</th>\n",
       "      <th>humidity</th>\n",
       "      <th>wind</th>\n",
       "      <th>decision</th>\n",
       "    </tr>\n",
       "  </thead>\n",
       "  <tbody>\n",
       "    <tr>\n",
       "      <th>0</th>\n",
       "      <td>1</td>\n",
       "      <td>Sunny</td>\n",
       "      <td>85</td>\n",
       "      <td>85</td>\n",
       "      <td>Weak</td>\n",
       "      <td>No</td>\n",
       "    </tr>\n",
       "    <tr>\n",
       "      <th>1</th>\n",
       "      <td>2</td>\n",
       "      <td>Sunny</td>\n",
       "      <td>80</td>\n",
       "      <td>90</td>\n",
       "      <td>Strong</td>\n",
       "      <td>No</td>\n",
       "    </tr>\n",
       "    <tr>\n",
       "      <th>2</th>\n",
       "      <td>3</td>\n",
       "      <td>Overcast</td>\n",
       "      <td>83</td>\n",
       "      <td>78</td>\n",
       "      <td>Weak</td>\n",
       "      <td>Yes</td>\n",
       "    </tr>\n",
       "    <tr>\n",
       "      <th>3</th>\n",
       "      <td>4</td>\n",
       "      <td>Rain</td>\n",
       "      <td>70</td>\n",
       "      <td>96</td>\n",
       "      <td>Weak</td>\n",
       "      <td>Yes</td>\n",
       "    </tr>\n",
       "    <tr>\n",
       "      <th>4</th>\n",
       "      <td>5</td>\n",
       "      <td>Rain</td>\n",
       "      <td>68</td>\n",
       "      <td>80</td>\n",
       "      <td>Weak</td>\n",
       "      <td>Yes</td>\n",
       "    </tr>\n",
       "    <tr>\n",
       "      <th>5</th>\n",
       "      <td>6</td>\n",
       "      <td>Rain</td>\n",
       "      <td>65</td>\n",
       "      <td>70</td>\n",
       "      <td>Strong</td>\n",
       "      <td>No</td>\n",
       "    </tr>\n",
       "    <tr>\n",
       "      <th>6</th>\n",
       "      <td>7</td>\n",
       "      <td>Overcast</td>\n",
       "      <td>64</td>\n",
       "      <td>65</td>\n",
       "      <td>Strong</td>\n",
       "      <td>Yes</td>\n",
       "    </tr>\n",
       "    <tr>\n",
       "      <th>7</th>\n",
       "      <td>8</td>\n",
       "      <td>Sunny</td>\n",
       "      <td>72</td>\n",
       "      <td>95</td>\n",
       "      <td>Weak</td>\n",
       "      <td>No</td>\n",
       "    </tr>\n",
       "    <tr>\n",
       "      <th>8</th>\n",
       "      <td>9</td>\n",
       "      <td>Sunny</td>\n",
       "      <td>69</td>\n",
       "      <td>70</td>\n",
       "      <td>Weak</td>\n",
       "      <td>Yes</td>\n",
       "    </tr>\n",
       "    <tr>\n",
       "      <th>9</th>\n",
       "      <td>10</td>\n",
       "      <td>Rain</td>\n",
       "      <td>75</td>\n",
       "      <td>80</td>\n",
       "      <td>Weak</td>\n",
       "      <td>Yes</td>\n",
       "    </tr>\n",
       "    <tr>\n",
       "      <th>10</th>\n",
       "      <td>11</td>\n",
       "      <td>Sunny</td>\n",
       "      <td>75</td>\n",
       "      <td>70</td>\n",
       "      <td>Strong</td>\n",
       "      <td>Yes</td>\n",
       "    </tr>\n",
       "    <tr>\n",
       "      <th>11</th>\n",
       "      <td>12</td>\n",
       "      <td>Overcast</td>\n",
       "      <td>72</td>\n",
       "      <td>90</td>\n",
       "      <td>Strong</td>\n",
       "      <td>Yes</td>\n",
       "    </tr>\n",
       "    <tr>\n",
       "      <th>12</th>\n",
       "      <td>13</td>\n",
       "      <td>Overcast</td>\n",
       "      <td>81</td>\n",
       "      <td>75</td>\n",
       "      <td>Weak</td>\n",
       "      <td>Yes</td>\n",
       "    </tr>\n",
       "    <tr>\n",
       "      <th>13</th>\n",
       "      <td>14</td>\n",
       "      <td>Rain</td>\n",
       "      <td>71</td>\n",
       "      <td>80</td>\n",
       "      <td>Strong</td>\n",
       "      <td>No</td>\n",
       "    </tr>\n",
       "  </tbody>\n",
       "</table>\n",
       "</div>"
      ],
      "text/plain": [
       "    day   outlook  temp  humidity    wind decision\n",
       "0     1     Sunny    85        85    Weak       No\n",
       "1     2     Sunny    80        90  Strong       No\n",
       "2     3  Overcast    83        78    Weak      Yes\n",
       "3     4      Rain    70        96    Weak      Yes\n",
       "4     5      Rain    68        80    Weak      Yes\n",
       "5     6      Rain    65        70  Strong       No\n",
       "6     7  Overcast    64        65  Strong      Yes\n",
       "7     8     Sunny    72        95    Weak       No\n",
       "8     9     Sunny    69        70    Weak      Yes\n",
       "9    10      Rain    75        80    Weak      Yes\n",
       "10   11     Sunny    75        70  Strong      Yes\n",
       "11   12  Overcast    72        90  Strong      Yes\n",
       "12   13  Overcast    81        75    Weak      Yes\n",
       "13   14      Rain    71        80  Strong       No"
      ]
     },
     "execution_count": 8,
     "metadata": {},
     "output_type": "execute_result"
    }
   ],
   "source": [
    "df = pd.read_csv('weather_data.csv', names=['day', 'outlook', 'temp', 'humidity', 'wind', 'decision'], header=0)\n",
    "df"
   ]
  },
  {
   "cell_type": "code",
   "execution_count": 19,
   "id": "82181b8b",
   "metadata": {},
   "outputs": [
    {
     "data": {
      "text/plain": [
       "0.15642756242117511"
      ]
     },
     "execution_count": 19,
     "metadata": {},
     "output_type": "execute_result"
    }
   ],
   "source": [
    "def calc_entropy(df, target_col):\n",
    "    total = len(df)\n",
    "    vals = df[target_col].value_counts()\n",
    "    entropy = 0\n",
    "    for val in vals:\n",
    "        entropy += (val / total) * np.log(val / total)\n",
    "    entropy *= -1\n",
    "    return entropy\n",
    "\n",
    "def calc_info_gain(df, predictor_col, target_col):\n",
    "    total = len(df)\n",
    "    initial_entropy = calc_entropy(df, target_col)\n",
    "    cats = df[predictor_col].value_counts()\n",
    "    entropy_after_split = 0\n",
    "    for cat in cats.index:\n",
    "        entropy_after_split += (cats[cat] / total) * calc_entropy(df[df[predictor_col] == cat], target_col)\n",
    "        \n",
    "    return initial_entropy - entropy_after_split\n",
    "\n",
    "def calc_gain_ratio(df, predictor_col, target_col):\n",
    "    total = len(df)\n",
    "    info_gain = calc_info_gain(df, predictor_col, target_col)\n",
    "    normalize = 0\n",
    "    vals = df[predictor_col].value_counts()\n",
    "    for val in vals:\n",
    "        normalize += (val / total) * np.log(val / total)\n",
    "    normalize *= -1\n",
    "    \n",
    "    gain_ratio = info_gain / normalize\n",
    "    #print(info_gain, normalize)\n",
    "    \n",
    "    return gain_ratio\n",
    "    \n",
    "calc_gain_ratio(df, 'outlook', 'decision')"
   ]
  },
  {
   "cell_type": "code",
   "execution_count": 20,
   "id": "4e6d6832",
   "metadata": {},
   "outputs": [
    {
     "name": "stdout",
     "output_type": "stream",
     "text": [
      "Information Gain for column day: 0.24696566984684304\n",
      "Information Gain for column outlook: 0.15642756242117511\n",
      "Information Gain for column temp: 0.2264367373502071\n",
      "Information Gain for column humidity: 0.13529065115207334\n",
      "Information Gain for column wind: 0.04884861551152079\n"
     ]
    }
   ],
   "source": [
    "for col in df.columns[:-1]:\n",
    "    gain = calc_gain_ratio(df, col, 'decision')\n",
    "    print(f\"Information Gain for column {col}: {gain}\")"
   ]
  },
  {
   "cell_type": "code",
   "execution_count": 22,
   "id": "0158c6cf",
   "metadata": {},
   "outputs": [],
   "source": [
    "# Function to recursively build the decision tree using ID3 algorithm\n",
    "def c45(data, original_data, features, target_attribute, parent_node_class=None):\n",
    "    # Base case 1: If all target values are the same, return the class\n",
    "    if len(np.unique(data[target_attribute])) <= 1:\n",
    "        return np.unique(data[target_attribute])[0]\n",
    "    \n",
    "    # Base case 2: If dataset is empty, return the mode target feature value from the original dataset\n",
    "    elif len(data) == 0:\n",
    "        return np.unique(original_data[target_attribute])[np.argmax(np.unique(original_data[target_attribute], return_counts=True)[1])]\n",
    "    \n",
    "    # Base case 3: If the feature space is empty, return the parent node class\n",
    "    elif len(features) == 0:\n",
    "        return parent_node_class\n",
    "    \n",
    "    # Recursive case: Build the tree\n",
    "    else:\n",
    "        # Store the parent node class (the mode target feature value)\n",
    "        parent_node_class = np.unique(data[target_attribute])[np.argmax(np.unique(data[target_attribute], return_counts=True)[1])]\n",
    "        \n",
    "        # Select the feature that best splits the dataset\n",
    "        item_values = [calc_gain_ratio(data, feature, target_attribute) for feature in features]  # List of information gains\n",
    "        best_feature_index = np.argmax(item_values)\n",
    "        best_feature = features[best_feature_index]\n",
    "        \n",
    "        # Create the tree structure\n",
    "        tree = {best_feature: {}}\n",
    "        \n",
    "        # Remove the best feature from the feature list\n",
    "        features = [i for i in features if i != best_feature]\n",
    "        \n",
    "        # Grow the tree branch by branch for each feature in the best split\n",
    "        for value in np.unique(data[best_feature]):\n",
    "            sub_data = data[data[best_feature] == value]\n",
    "            subtree = c45(sub_data, original_data, features, target_attribute, parent_node_class)\n",
    "            tree[best_feature][value] = subtree\n",
    "        \n",
    "        return tree\n",
    "    \n",
    "    \n",
    "def c45_predict(tree, data):\n",
    "    sub_tree = tree\n",
    "    while isinstance(sub_tree, dict):\n",
    "        feature = list(sub_tree.keys())[0]\n",
    "        sub_tree = sub_tree[feature][data[feature]]\n",
    "    return sub_tree"
   ]
  },
  {
   "cell_type": "code",
   "execution_count": 28,
   "id": "b8600783",
   "metadata": {},
   "outputs": [
    {
     "data": {
      "text/plain": [
       "{'day': {1: 'No',\n",
       "  2: 'No',\n",
       "  3: 'Yes',\n",
       "  4: 'Yes',\n",
       "  5: 'Yes',\n",
       "  6: 'No',\n",
       "  7: 'Yes',\n",
       "  8: 'No',\n",
       "  9: 'Yes',\n",
       "  10: 'Yes',\n",
       "  11: 'Yes',\n",
       "  12: 'Yes',\n",
       "  13: 'Yes',\n",
       "  14: 'No'}}"
      ]
     },
     "execution_count": 28,
     "metadata": {},
     "output_type": "execute_result"
    }
   ],
   "source": [
    "tree = c45(df, df, df.columns[: -1], 'decision')\n",
    "tree"
   ]
  },
  {
   "cell_type": "markdown",
   "id": "2a1550d9",
   "metadata": {},
   "source": [
    "# Question - 2"
   ]
  },
  {
   "cell_type": "code",
   "execution_count": 41,
   "id": "f60af2fe",
   "metadata": {},
   "outputs": [],
   "source": [
    "def calc_gini(df, target_col):\n",
    "    total = len(df)\n",
    "    vals = df[target_col].value_counts()\n",
    "    gini = 1\n",
    "    for val in vals:\n",
    "        gini -= (val / total) ** 2\n",
    "    return gini\n",
    "\n",
    "def calc_gini_gain(df, predictor_col, target_col):\n",
    "    total = len(df)\n",
    "    initial_gini_index = calc_gini(df, target_col)\n",
    "    cats = df[predictor_col].value_counts()\n",
    "    gini_index_after_split = 0\n",
    "    for cat in cats.index:\n",
    "        gini_index_after_split += (cats[cat] / total) * calc_gini(df[df[predictor_col] == cat], target_col)\n",
    "    gini_gain = initial_gini_index - gini_index_after_split\n",
    "    return gini_gain\n",
    "        \n",
    "\n",
    "# Function to recursively build the decision tree using ID3 algorithm\n",
    "def cart(data, original_data, features, target_attribute, parent_node_class=None):\n",
    "    # Base case 1: If all target values are the same, return the class\n",
    "    if len(np.unique(data[target_attribute])) <= 1:\n",
    "        return np.unique(data[target_attribute])[0]\n",
    "    \n",
    "    # Base case 2: If dataset is empty, return the mode target feature value from the original dataset\n",
    "    elif len(data) == 0:\n",
    "        return np.unique(original_data[target_attribute])[np.argmax(np.unique(original_data[target_attribute], return_counts=True)[1])]\n",
    "    \n",
    "    # Base case 3: If the feature space is empty, return the parent node class\n",
    "    elif len(features) == 0:\n",
    "        return parent_node_class\n",
    "    \n",
    "    # Recursive case: Build the tree\n",
    "    else:\n",
    "        # Store the parent node class (the mode target feature value)\n",
    "        parent_node_class = np.unique(data[target_attribute])[np.argmax(np.unique(data[target_attribute], return_counts=True)[1])]\n",
    "        \n",
    "        # Select the feature that best splits the dataset\n",
    "        item_values = [calc_gini_gain(data, feature, target_attribute) for feature in features]  # List of information gains\n",
    "        best_feature_index = np.argmax(item_values)\n",
    "        best_feature = features[best_feature_index]\n",
    "        \n",
    "        # Create the tree structure\n",
    "        tree = {best_feature: {}}\n",
    "        \n",
    "        # Remove the best feature from the feature list\n",
    "        features = [i for i in features if i != best_feature]\n",
    "        \n",
    "        # Grow the tree branch by branch for each feature in the best split\n",
    "        for value in np.unique(data[best_feature]):\n",
    "            sub_data = data[data[best_feature] == value]\n",
    "            subtree = cart(sub_data, original_data, features, target_attribute, parent_node_class)\n",
    "            tree[best_feature][value] = subtree\n",
    "        \n",
    "        return tree\n",
    "    \n",
    "    \n",
    "def cart_predict(tree, data):\n",
    "    sub_tree = tree\n",
    "    while isinstance(sub_tree, dict):\n",
    "        feature = list(sub_tree.keys())[0]\n",
    "        sub_tree = sub_tree[feature][data[feature]]\n",
    "    return sub_tree"
   ]
  },
  {
   "cell_type": "code",
   "execution_count": 42,
   "id": "bfcd240f",
   "metadata": {},
   "outputs": [
    {
     "name": "stdout",
     "output_type": "stream",
     "text": [
      "Gini Gain for column day: 0.4591836734693877\n",
      "Gini Gain for column outlook: 0.11632653061224485\n",
      "Gini Gain for column temp: 0.3877551020408163\n",
      "Gini Gain for column humidity: 0.19727891156462585\n",
      "Gini Gain for column wind: 0.030612244897959162\n"
     ]
    }
   ],
   "source": [
    "for col in df.columns[:-1]:\n",
    "    gain = calc_gini_index(df, col, 'decision')\n",
    "    print(f\"Gini Gain for column {col}: {gain}\")"
   ]
  },
  {
   "cell_type": "code",
   "execution_count": 44,
   "id": "3335aa6a",
   "metadata": {},
   "outputs": [
    {
     "data": {
      "text/plain": [
       "{'temp': {64: 'Yes',\n",
       "  65: 'No',\n",
       "  68: 'Yes',\n",
       "  69: 'Yes',\n",
       "  70: 'Yes',\n",
       "  71: 'No',\n",
       "  72: {'outlook': {'Overcast': 'Yes', 'Sunny': 'No'}},\n",
       "  75: 'Yes',\n",
       "  80: 'No',\n",
       "  81: 'Yes',\n",
       "  83: 'Yes',\n",
       "  85: 'No'}}"
      ]
     },
     "execution_count": 44,
     "metadata": {},
     "output_type": "execute_result"
    }
   ],
   "source": [
    "tree = cart(df, df, df.columns[1: -1], 'decision')\n",
    "tree"
   ]
  },
  {
   "cell_type": "markdown",
   "id": "c7230f4f",
   "metadata": {},
   "source": [
    "# Question - 3"
   ]
  },
  {
   "cell_type": "code",
   "execution_count": 62,
   "id": "7dd7d019",
   "metadata": {},
   "outputs": [
    {
     "data": {
      "text/html": [
       "<div>\n",
       "<style scoped>\n",
       "    .dataframe tbody tr th:only-of-type {\n",
       "        vertical-align: middle;\n",
       "    }\n",
       "\n",
       "    .dataframe tbody tr th {\n",
       "        vertical-align: top;\n",
       "    }\n",
       "\n",
       "    .dataframe thead th {\n",
       "        text-align: right;\n",
       "    }\n",
       "</style>\n",
       "<table border=\"1\" class=\"dataframe\">\n",
       "  <thead>\n",
       "    <tr style=\"text-align: right;\">\n",
       "      <th></th>\n",
       "      <th>income</th>\n",
       "      <th>credit</th>\n",
       "      <th>approved</th>\n",
       "    </tr>\n",
       "  </thead>\n",
       "  <tbody>\n",
       "    <tr>\n",
       "      <th>0</th>\n",
       "      <td>low</td>\n",
       "      <td>good</td>\n",
       "      <td>yes</td>\n",
       "    </tr>\n",
       "    <tr>\n",
       "      <th>1</th>\n",
       "      <td>low</td>\n",
       "      <td>bad</td>\n",
       "      <td>no</td>\n",
       "    </tr>\n",
       "    <tr>\n",
       "      <th>2</th>\n",
       "      <td>medium</td>\n",
       "      <td>good</td>\n",
       "      <td>yes</td>\n",
       "    </tr>\n",
       "    <tr>\n",
       "      <th>3</th>\n",
       "      <td>medium</td>\n",
       "      <td>bad</td>\n",
       "      <td>yes</td>\n",
       "    </tr>\n",
       "    <tr>\n",
       "      <th>4</th>\n",
       "      <td>high</td>\n",
       "      <td>good</td>\n",
       "      <td>yes</td>\n",
       "    </tr>\n",
       "    <tr>\n",
       "      <th>5</th>\n",
       "      <td>high</td>\n",
       "      <td>bad</td>\n",
       "      <td>no</td>\n",
       "    </tr>\n",
       "  </tbody>\n",
       "</table>\n",
       "</div>"
      ],
      "text/plain": [
       "   income credit approved\n",
       "0     low   good      yes\n",
       "1     low    bad       no\n",
       "2  medium   good      yes\n",
       "3  medium    bad      yes\n",
       "4    high   good      yes\n",
       "5    high    bad       no"
      ]
     },
     "execution_count": 62,
     "metadata": {},
     "output_type": "execute_result"
    }
   ],
   "source": [
    "df = pd.read_csv('loan_data.csv')\n",
    "df"
   ]
  },
  {
   "cell_type": "code",
   "execution_count": 58,
   "id": "75451ba7",
   "metadata": {},
   "outputs": [
    {
     "name": "stdout",
     "output_type": "stream",
     "text": [
      "C4.5 Algorithm\n",
      "{'credit': {'bad': {'income': {'high': 'no', 'low': 'no', 'medium': 'yes'}},\n",
      "            'good': 'yes'}}\n",
      "\n",
      "CART Algorithm\n",
      "{'credit': {'bad': {'income': {'high': 'no', 'low': 'no', 'medium': 'yes'}},\n",
      "            'good': 'yes'}}\n"
     ]
    }
   ],
   "source": [
    "from pprint import pprint\n",
    "\n",
    "tree = c45(df, df, df.columns[: -1], 'approved')\n",
    "print(\"C4.5 Algorithm\")\n",
    "pprint(tree)\n",
    "\n",
    "print(\"\\nCART Algorithm\")\n",
    "tree = cart(df, df, df.columns[: -1], 'approved')\n",
    "pprint(tree)"
   ]
  },
  {
   "cell_type": "code",
   "execution_count": 60,
   "id": "e95305c7",
   "metadata": {},
   "outputs": [
    {
     "data": {
      "text/plain": [
       "'yes'"
      ]
     },
     "execution_count": 60,
     "metadata": {},
     "output_type": "execute_result"
    }
   ],
   "source": [
    "cart_predict(tree, {'income': 'medium', 'credit': 'bad'})"
   ]
  },
  {
   "cell_type": "code",
   "execution_count": null,
   "id": "80b6c5c7",
   "metadata": {},
   "outputs": [],
   "source": []
  },
  {
   "cell_type": "code",
   "execution_count": 67,
   "id": "d6952424",
   "metadata": {},
   "outputs": [
    {
     "name": "stdout",
     "output_type": "stream",
     "text": [
      "   income_high  income_low  income_medium  credit_bad  credit_good\n",
      "0        False        True          False       False         True\n",
      "1        False        True          False        True        False\n",
      "2        False       False           True       False         True\n",
      "3        False       False           True        True        False\n",
      "4         True       False          False       False         True\n",
      "5         True       False          False        True        False\n"
     ]
    },
    {
     "name": "stderr",
     "output_type": "stream",
     "text": [
      "/usr/lib/python3/dist-packages/sklearn/base.py:493: UserWarning: X does not have valid feature names, but DecisionTreeClassifier was fitted with feature names\n",
      "  warnings.warn(\n"
     ]
    },
    {
     "data": {
      "text/plain": [
       "array(['yes'], dtype=object)"
      ]
     },
     "execution_count": 67,
     "metadata": {},
     "output_type": "execute_result"
    }
   ],
   "source": [
    "from sklearn.tree import DecisionTreeClassifier\n",
    "\n",
    "# Initialize DecisionTreeClassifier (CART with Gini impurity)\n",
    "clf = DecisionTreeClassifier(criterion='gini', random_state=42)\n",
    "\n",
    "# Convert categorical variables to numeric using one-hot encoding\n",
    "df_encoded = pd.get_dummies(df.drop('approved', axis=1))  # Drop target column for one-hot encoding\n",
    "x = df_encoded\n",
    "y = df['approved']\n",
    "\n",
    "print(x)\n",
    "\n",
    "# Train the model\n",
    "clf.fit(x, y)\n",
    "\n",
    "# Make predictions\n",
    "y_pred = clf.predict([[False, False, True, True, False]])\n",
    "\n",
    "y_pred"
   ]
  }
 ],
 "metadata": {
  "kernelspec": {
   "display_name": "Python 3 (ipykernel)",
   "language": "python",
   "name": "python3"
  },
  "language_info": {
   "codemirror_mode": {
    "name": "ipython",
    "version": 3
   },
   "file_extension": ".py",
   "mimetype": "text/x-python",
   "name": "python",
   "nbconvert_exporter": "python",
   "pygments_lexer": "ipython3",
   "version": "3.12.3"
  }
 },
 "nbformat": 4,
 "nbformat_minor": 5
}
