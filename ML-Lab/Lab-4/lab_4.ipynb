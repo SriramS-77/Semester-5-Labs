{
 "cells": [
  {
   "cell_type": "code",
   "execution_count": 1,
   "id": "7e475804",
   "metadata": {},
   "outputs": [],
   "source": [
    "import numpy as np\n",
    "import pandas as pd\n",
    "import matplotlib.pyplot as plt"
   ]
  },
  {
   "cell_type": "markdown",
   "id": "145232b8",
   "metadata": {},
   "source": [
    "---------------------------\n",
    "## Question 1\n",
    "------------------------------"
   ]
  },
  {
   "cell_type": "code",
   "execution_count": 45,
   "id": "5dfeaa56",
   "metadata": {},
   "outputs": [],
   "source": [
    "class SimpleModel:\n",
    "    def __init__(self, b0=0, b1=0):\n",
    "        self.b0 = b0\n",
    "        self.b1 = b1\n",
    "        \n",
    "    def predict(self, x):\n",
    "        return self.b1 * x + self.b0"
   ]
  },
  {
   "cell_type": "code",
   "execution_count": 46,
   "id": "48d9ec86",
   "metadata": {},
   "outputs": [],
   "source": [
    "class PolynomialModel:\n",
    "    def __init__(self, b0=0, b1=0, b2=0):\n",
    "        self.b0 = b0\n",
    "        self.b1 = b1\n",
    "        self.b2 = b2\n",
    "        \n",
    "    def predict(self, x):\n",
    "        return self.b2 * x**2 + self.b1 * x + self.b0"
   ]
  },
  {
   "cell_type": "code",
   "execution_count": 3,
   "id": "98e6a036",
   "metadata": {
    "scrolled": true
   },
   "outputs": [
    {
     "data": {
      "text/html": [
       "<div>\n",
       "<style scoped>\n",
       "    .dataframe tbody tr th:only-of-type {\n",
       "        vertical-align: middle;\n",
       "    }\n",
       "\n",
       "    .dataframe tbody tr th {\n",
       "        vertical-align: top;\n",
       "    }\n",
       "\n",
       "    .dataframe thead th {\n",
       "        text-align: right;\n",
       "    }\n",
       "</style>\n",
       "<table border=\"1\" class=\"dataframe\">\n",
       "  <thead>\n",
       "    <tr style=\"text-align: right;\">\n",
       "      <th></th>\n",
       "      <th>temp</th>\n",
       "      <th>yield</th>\n",
       "    </tr>\n",
       "  </thead>\n",
       "  <tbody>\n",
       "    <tr>\n",
       "      <th>0</th>\n",
       "      <td>50</td>\n",
       "      <td>3.3</td>\n",
       "    </tr>\n",
       "    <tr>\n",
       "      <th>1</th>\n",
       "      <td>50</td>\n",
       "      <td>2.8</td>\n",
       "    </tr>\n",
       "    <tr>\n",
       "      <th>2</th>\n",
       "      <td>50</td>\n",
       "      <td>2.9</td>\n",
       "    </tr>\n",
       "    <tr>\n",
       "      <th>3</th>\n",
       "      <td>70</td>\n",
       "      <td>2.3</td>\n",
       "    </tr>\n",
       "    <tr>\n",
       "      <th>4</th>\n",
       "      <td>70</td>\n",
       "      <td>2.6</td>\n",
       "    </tr>\n",
       "    <tr>\n",
       "      <th>5</th>\n",
       "      <td>70</td>\n",
       "      <td>2.1</td>\n",
       "    </tr>\n",
       "    <tr>\n",
       "      <th>6</th>\n",
       "      <td>80</td>\n",
       "      <td>2.5</td>\n",
       "    </tr>\n",
       "    <tr>\n",
       "      <th>7</th>\n",
       "      <td>80</td>\n",
       "      <td>2.9</td>\n",
       "    </tr>\n",
       "    <tr>\n",
       "      <th>8</th>\n",
       "      <td>80</td>\n",
       "      <td>2.4</td>\n",
       "    </tr>\n",
       "    <tr>\n",
       "      <th>9</th>\n",
       "      <td>90</td>\n",
       "      <td>3.0</td>\n",
       "    </tr>\n",
       "    <tr>\n",
       "      <th>10</th>\n",
       "      <td>90</td>\n",
       "      <td>3.1</td>\n",
       "    </tr>\n",
       "    <tr>\n",
       "      <th>11</th>\n",
       "      <td>90</td>\n",
       "      <td>2.8</td>\n",
       "    </tr>\n",
       "    <tr>\n",
       "      <th>12</th>\n",
       "      <td>100</td>\n",
       "      <td>3.3</td>\n",
       "    </tr>\n",
       "    <tr>\n",
       "      <th>13</th>\n",
       "      <td>100</td>\n",
       "      <td>3.5</td>\n",
       "    </tr>\n",
       "    <tr>\n",
       "      <th>14</th>\n",
       "      <td>100</td>\n",
       "      <td>3.0</td>\n",
       "    </tr>\n",
       "  </tbody>\n",
       "</table>\n",
       "</div>"
      ],
      "text/plain": [
       "    temp  yield\n",
       "0     50    3.3\n",
       "1     50    2.8\n",
       "2     50    2.9\n",
       "3     70    2.3\n",
       "4     70    2.6\n",
       "5     70    2.1\n",
       "6     80    2.5\n",
       "7     80    2.9\n",
       "8     80    2.4\n",
       "9     90    3.0\n",
       "10    90    3.1\n",
       "11    90    2.8\n",
       "12   100    3.3\n",
       "13   100    3.5\n",
       "14   100    3.0"
      ]
     },
     "execution_count": 3,
     "metadata": {},
     "output_type": "execute_result"
    }
   ],
   "source": [
    "df = pd.DataFrame({'temp': [50, 50, 50, 70, 70, 70, 80, 80, 80, 90, 90, 90, 100, 100, 100],\n",
    "                  'yield': [3.3, 2.8, 2.9, 2.3, 2.6, 2.1, 2.5, 2.9, 2.4, 3.0, 3.1, 2.8, 3.3, 3.5, 3.0]})\n",
    "df"
   ]
  },
  {
   "cell_type": "code",
   "execution_count": 4,
   "id": "36bb54ac",
   "metadata": {
    "scrolled": true
   },
   "outputs": [
    {
     "data": {
      "text/html": [
       "<div>\n",
       "<style scoped>\n",
       "    .dataframe tbody tr th:only-of-type {\n",
       "        vertical-align: middle;\n",
       "    }\n",
       "\n",
       "    .dataframe tbody tr th {\n",
       "        vertical-align: top;\n",
       "    }\n",
       "\n",
       "    .dataframe thead th {\n",
       "        text-align: right;\n",
       "    }\n",
       "</style>\n",
       "<table border=\"1\" class=\"dataframe\">\n",
       "  <thead>\n",
       "    <tr style=\"text-align: right;\">\n",
       "      <th></th>\n",
       "      <th>temp</th>\n",
       "      <th>yield</th>\n",
       "    </tr>\n",
       "  </thead>\n",
       "  <tbody>\n",
       "    <tr>\n",
       "      <th>0</th>\n",
       "      <td>50</td>\n",
       "      <td>3.3</td>\n",
       "    </tr>\n",
       "    <tr>\n",
       "      <th>1</th>\n",
       "      <td>50</td>\n",
       "      <td>2.8</td>\n",
       "    </tr>\n",
       "    <tr>\n",
       "      <th>2</th>\n",
       "      <td>50</td>\n",
       "      <td>2.9</td>\n",
       "    </tr>\n",
       "    <tr>\n",
       "      <th>3</th>\n",
       "      <td>70</td>\n",
       "      <td>2.3</td>\n",
       "    </tr>\n",
       "    <tr>\n",
       "      <th>4</th>\n",
       "      <td>70</td>\n",
       "      <td>2.6</td>\n",
       "    </tr>\n",
       "    <tr>\n",
       "      <th>5</th>\n",
       "      <td>70</td>\n",
       "      <td>2.1</td>\n",
       "    </tr>\n",
       "    <tr>\n",
       "      <th>6</th>\n",
       "      <td>80</td>\n",
       "      <td>2.5</td>\n",
       "    </tr>\n",
       "    <tr>\n",
       "      <th>7</th>\n",
       "      <td>80</td>\n",
       "      <td>2.9</td>\n",
       "    </tr>\n",
       "    <tr>\n",
       "      <th>8</th>\n",
       "      <td>80</td>\n",
       "      <td>2.4</td>\n",
       "    </tr>\n",
       "    <tr>\n",
       "      <th>9</th>\n",
       "      <td>90</td>\n",
       "      <td>3.0</td>\n",
       "    </tr>\n",
       "    <tr>\n",
       "      <th>10</th>\n",
       "      <td>90</td>\n",
       "      <td>3.1</td>\n",
       "    </tr>\n",
       "    <tr>\n",
       "      <th>11</th>\n",
       "      <td>90</td>\n",
       "      <td>2.8</td>\n",
       "    </tr>\n",
       "    <tr>\n",
       "      <th>12</th>\n",
       "      <td>100</td>\n",
       "      <td>3.3</td>\n",
       "    </tr>\n",
       "    <tr>\n",
       "      <th>13</th>\n",
       "      <td>100</td>\n",
       "      <td>3.5</td>\n",
       "    </tr>\n",
       "    <tr>\n",
       "      <th>14</th>\n",
       "      <td>100</td>\n",
       "      <td>3.0</td>\n",
       "    </tr>\n",
       "  </tbody>\n",
       "</table>\n",
       "</div>"
      ],
      "text/plain": [
       "    temp  yield\n",
       "0     50    3.3\n",
       "1     50    2.8\n",
       "2     50    2.9\n",
       "3     70    2.3\n",
       "4     70    2.6\n",
       "5     70    2.1\n",
       "6     80    2.5\n",
       "7     80    2.9\n",
       "8     80    2.4\n",
       "9     90    3.0\n",
       "10    90    3.1\n",
       "11    90    2.8\n",
       "12   100    3.3\n",
       "13   100    3.5\n",
       "14   100    3.0"
      ]
     },
     "execution_count": 4,
     "metadata": {},
     "output_type": "execute_result"
    }
   ],
   "source": [
    "df = pd.read_csv('temp_data.csv')\n",
    "df"
   ]
  },
  {
   "cell_type": "code",
   "execution_count": 11,
   "id": "dff4cdc8",
   "metadata": {},
   "outputs": [],
   "source": [
    "x, y = df.temp.values, df['yield'].values"
   ]
  },
  {
   "cell_type": "code",
   "execution_count": 48,
   "id": "c27d7dba",
   "metadata": {},
   "outputs": [
    {
     "name": "stdout",
     "output_type": "stream",
     "text": [
      "b0: 2.3063063063062987, b1: 0.0067567567567568525\n"
     ]
    }
   ],
   "source": [
    "simple_formula = SimpleModel()\n",
    "\n",
    "simple_formula.b1 = ( x.mean() * y.mean() - (x * y).mean() ) / ( x.mean() ** 2 - (x ** 2).mean() )\n",
    "\n",
    "simple_formula.b0 = y.mean() - x.mean() * simple_formula.b1\n",
    "\n",
    "print(f\"b0: {simple_formula.b0}, b1: {simple_formula.b1}\")"
   ]
  },
  {
   "cell_type": "code",
   "execution_count": 49,
   "id": "9949331e",
   "metadata": {},
   "outputs": [],
   "source": [
    "simple_matrix = SimpleModel()\n",
    "\n",
    "# X.b = Y\n",
    "n = x.shape[-1]\n",
    "X = np.array([n, x.sum(), x.sum(), (x * x).sum()]).reshape(2,2)\n",
    "\n",
    "Y = np.array([y.sum(), (x * y).sum()]).reshape(2,1)"
   ]
  },
  {
   "cell_type": "code",
   "execution_count": 50,
   "id": "fa76598e",
   "metadata": {},
   "outputs": [
    {
     "data": {
      "text/plain": [
       "array([[2.30630631],\n",
       "       [0.00675676]])"
      ]
     },
     "execution_count": 50,
     "metadata": {},
     "output_type": "execute_result"
    }
   ],
   "source": [
    "X_inv = np.linalg.inv(X)\n",
    "b = np.matmul(X_inv, Y)\n",
    "b"
   ]
  },
  {
   "cell_type": "code",
   "execution_count": 51,
   "id": "0fbfa47a",
   "metadata": {},
   "outputs": [
    {
     "name": "stdout",
     "output_type": "stream",
     "text": [
      "b0: 2.306306306306297, b1: 0.00675675675675691\n"
     ]
    }
   ],
   "source": [
    "simple_matrix.b0, simple_matrix.b1 = tuple(b.flatten())\n",
    "\n",
    "print(f\"b0: {simple_matrix.b0}, b1: {simple_matrix.b1}\")"
   ]
  },
  {
   "cell_type": "code",
   "execution_count": 52,
   "id": "3f528075",
   "metadata": {},
   "outputs": [
    {
     "data": {
      "text/plain": [
       "(array([[       15,      1170,     95700],\n",
       "        [     1170,     95700,   8127000],\n",
       "        [    95700,   8127000, 710490000]]),\n",
       " array([[4.2500e+01],\n",
       "        [3.3450e+03],\n",
       "        [2.7681e+05]]))"
      ]
     },
     "execution_count": 52,
     "metadata": {},
     "output_type": "execute_result"
    }
   ],
   "source": [
    "poly_matrix = PolynomialModel()\n",
    "\n",
    "n = x.shape[-1]\n",
    "X = np.array([n, x.sum(), (x**2).sum(),\n",
    "              (x).sum(), (x**2).sum(), (x**3).sum(),\n",
    "              (x**2).sum(), (x**3).sum(), (x**4).sum()]).reshape(3,3)\n",
    "Y = np.array([y.sum(), (x * y).sum(), (x**2 * y).sum()]).reshape(3,1)\n",
    "\n",
    "X, Y"
   ]
  },
  {
   "cell_type": "code",
   "execution_count": 95,
   "id": "ab7b35a6",
   "metadata": {},
   "outputs": [],
   "source": [
    "def poly_regression(x, y, degree=2):\n",
    "    mat = []\n",
    "    for i in range(degree+1):\n",
    "        row = []\n",
    "        for j in range(degree+1):\n",
    "            n = i + j\n",
    "            row.append((x ** n).sum())\n",
    "        mat.append(row)\n",
    "    res = []\n",
    "    for i in range(degree+1):\n",
    "        res.append((y * x**i).sum())\n",
    "    X, Y = np.array(mat).reshape(degree+1, degree+1), np.array(res).reshape(degree+1,1)\n",
    "    B = np.matmul(np.linalg.inv(X), Y)\n",
    "    return B.flatten()\n",
    "\n",
    "def predict(x, b):\n",
    "    degree = b.shape[-1] - 1\n",
    "    y = np.zeros(x.shape)\n",
    "    for i in range(degree+1):\n",
    "        y += b[i] * x**i\n",
    "    return y"
   ]
  },
  {
   "cell_type": "code",
   "execution_count": 87,
   "id": "70524d6c",
   "metadata": {},
   "outputs": [
    {
     "data": {
      "text/plain": [
       "array([ 2.10515723e+01, -7.14287212e-01,  8.76572327e-03, -3.40146751e-05])"
      ]
     },
     "execution_count": 87,
     "metadata": {},
     "output_type": "execute_result"
    }
   ],
   "source": [
    "poly_regression(x, y, 3)"
   ]
  },
  {
   "cell_type": "code",
   "execution_count": 53,
   "id": "786cd7b4",
   "metadata": {},
   "outputs": [
    {
     "name": "stdout",
     "output_type": "stream",
     "text": [
      "b0: 7.960481099654089, b1: -0.15371134020614363, b2: 0.0010756013745701898\n"
     ]
    }
   ],
   "source": [
    "X_inv = np.linalg.inv(X)\n",
    "b = np.matmul(X_inv, Y)\n",
    "\n",
    "poly_matrix.b0, poly_matrix.b1, poly_matrix.b2 = tuple(b.flatten())\n",
    "\n",
    "print(f\"b0: {poly_matrix.b0}, b1: {poly_matrix.b1}, b2: {poly_matrix.b2}\")"
   ]
  },
  {
   "cell_type": "code",
   "execution_count": 82,
   "id": "18643ee6",
   "metadata": {},
   "outputs": [
    {
     "data": {
      "image/png": "[encoded data removed]",
      "text/plain": [
       "<Figure size 640x480 with 1 Axes>"
      ]
     },
     "metadata": {},
     "output_type": "display_data"
    }
   ],
   "source": [
    "fig = plt.figure()\n",
    "plt.scatter(x, y)\n",
    "plt.show()"
   ]
  },
  {
   "cell_type": "code",
   "execution_count": 118,
   "id": "dd5b2686",
   "metadata": {},
   "outputs": [
    {
     "data": {
      "image/png": "[encoded data removed]",
      "text/plain": [
       "<Figure size 640x480 with 1 Axes>"
      ]
     },
     "metadata": {},
     "output_type": "display_data"
    }
   ],
   "source": [
    "fig = plt.figure()\n",
    "plt.scatter(x, y)\n",
    "plt.plot(x, simple_formula.predict(x), color='red')\n",
    "plot_x = np.array([i for i in range(50, 100)])\n",
    "plt.plot(plot_x, poly_matrix.predict(plot_x), color='purple')\n",
    "\n",
    "b = poly_regression(x, y, 3)\n",
    "plt.plot(plot_x, b[0] + b[1] * plot_x + b[2] * plot_x ** 2 + b[3] * plot_x ** 3, color='green')\n",
    "\n",
    "b = poly_regression(x, y, 4)\n",
    "plt.plot(plot_x, b[0] + b[1] * plot_x + b[2] * plot_x ** 2 + b[3] * plot_x ** 3 + b[4] * plot_x ** 4, color='yellow')\n",
    "\n",
    "b = poly_regression(x, y, 5)\n",
    "plt.plot(plot_x, b[0] + b[1] * plot_x + b[2] * plot_x ** 2 + b[3] * plot_x ** 3 + b[4] * plot_x ** 4 + b[5] * plot_x ** 5, color='orange')\n",
    "\n",
    "b = poly_regression(x, y, 7)\n",
    "plt.plot(plot_x, predict(plot_x, b), color='black')\n",
    "\n",
    "plt.show()"
   ]
  },
  {
   "cell_type": "code",
   "execution_count": 63,
   "id": "4d9c4c89",
   "metadata": {},
   "outputs": [
    {
     "name": "stdout",
     "output_type": "stream",
     "text": [
      "Simple Linear Regression\n",
      "\n",
      "Error: [-0.65585586 -0.15585586 -0.25585586  0.47927928  0.17927928  0.67927928\n",
      "  0.34684685 -0.05315315  0.44684685 -0.08558559 -0.18558559  0.11441441\n",
      " -0.31801802 -0.51801802 -0.01801802]\n",
      "\n",
      "MSE: 0.1327087087087086\n",
      "\n",
      "RMSE: 0.3642920651190588\n"
     ]
    }
   ],
   "source": [
    "print(\"Simple Linear Regression\")\n",
    "\n",
    "y_pred = simple_matrix.predict(x)\n",
    "error = y_pred - y\n",
    "print(\"\\nError:\", error)\n",
    "\n",
    "print(\"\\nMSE:\", (error ** 2).mean())\n",
    "\n",
    "print(\"\\nRMSE:\", np.sqrt((error ** 2).mean()))"
   ]
  },
  {
   "cell_type": "code",
   "execution_count": 64,
   "id": "a3e268dd",
   "metadata": {},
   "outputs": [
    {
     "name": "stdout",
     "output_type": "stream",
     "text": [
      "Polynomial Linear Regression\n",
      "\n",
      "Error: [-0.33608247  0.16391753  0.06391753  0.17113402 -0.12886598  0.37113402\n",
      "  0.04742268 -0.35257732  0.14742268 -0.16116838 -0.26116838  0.03883162\n",
      "  0.04536082 -0.15463918  0.34536082]\n",
      "\n",
      "MSE: 0.04778465063001145\n",
      "\n",
      "RMSE: 0.21859700508015076\n"
     ]
    }
   ],
   "source": [
    "print(\"Polynomial Linear Regression: Degree 2\")\n",
    "\n",
    "y_pred = poly_matrix.predict(x)\n",
    "error = y_pred - y\n",
    "print(\"\\nError:\", error)\n",
    "\n",
    "print(\"\\nMSE:\", (error ** 2).mean())\n",
    "\n",
    "print(\"\\nRMSE:\", np.sqrt((error ** 2).mean()))"
   ]
  },
  {
   "cell_type": "code",
   "execution_count": 98,
   "id": "6a020d7f",
   "metadata": {},
   "outputs": [
    {
     "name": "stdout",
     "output_type": "stream",
     "text": [
      "Polynomial Linear Regression: Degree 3\n",
      "\n",
      "Error: [-0.30031447  0.19968553  0.09968553  0.03647799 -0.26352201  0.23647799\n",
      "  0.09371069 -0.30628931  0.19371069 -0.02861635 -0.12861635  0.17138365\n",
      " -0.03459119 -0.23459119  0.26540881]\n",
      "\n",
      "MSE: 0.038681341719077576\n",
      "\n",
      "RMSE: 0.19667572732566055\n"
     ]
    }
   ],
   "source": [
    "print(\"Polynomial Linear Regression: Degree 3\")\n",
    "\n",
    "n = 3\n",
    "b = poly_regression(x, y, n)\n",
    "\n",
    "#y_pred = b[0] + b[1] * x + b[2] * x**2 + b[3] * x**3\n",
    "y_pred = predict(x, b)\n",
    "\n",
    "error = y_pred - y\n",
    "print(\"\\nError:\", error)\n",
    "\n",
    "print(\"\\nMSE:\", (error ** 2).mean())\n",
    "\n",
    "print(\"\\nRMSE:\", np.sqrt((error ** 2).mean()))"
   ]
  },
  {
   "cell_type": "code",
   "execution_count": 99,
   "id": "c976fd0b",
   "metadata": {},
   "outputs": [
    {
     "name": "stdout",
     "output_type": "stream",
     "text": [
      "Polynomial Linear Regression: Degree 4\n",
      "\n",
      "Error: [-0.30000004  0.19999996  0.09999996  0.0333333  -0.2666667   0.2333333\n",
      "  0.09999998 -0.30000002  0.19999998 -0.03333334 -0.13333334  0.16666666\n",
      " -0.03333333 -0.23333333  0.26666667]\n",
      "\n",
      "MSE: 0.03866666666666732\n",
      "\n",
      "RMSE: 0.19663841605003668\n"
     ]
    }
   ],
   "source": [
    "print(\"Polynomial Linear Regression: Degree 4\")\n",
    "\n",
    "n = 4\n",
    "b = poly_regression(x, y, n)\n",
    "\n",
    "#y_pred = b[0] + b[1] * x + b[2] * x**2 + b[3] * x**3 + b[4] * x**4\n",
    "y_pred = predict(x, b)\n",
    "\n",
    "error = y_pred - y\n",
    "print(\"\\nError:\", error)\n",
    "\n",
    "print(\"\\nMSE:\", (error ** 2).mean())\n",
    "\n",
    "print(\"\\nRMSE:\", np.sqrt((error ** 2).mean()))"
   ]
  },
  {
   "cell_type": "code",
   "execution_count": 123,
   "id": "9ab873f6",
   "metadata": {},
   "outputs": [
    {
     "name": "stdout",
     "output_type": "stream",
     "text": [
      "Polynomial Linear Regression: Degree 5\n",
      "\n",
      "Error: [-0.30000004  0.19999996  0.09999996  0.0333333  -0.2666667   0.2333333\n",
      "  0.09999997 -0.30000003  0.19999997 -0.03333336 -0.13333336  0.16666664\n",
      " -0.03333335 -0.23333335  0.26666665]\n",
      "\n",
      "MSE: 0.03866666666666766\n",
      "\n",
      "RMSE: 0.19663841605003754\n"
     ]
    }
   ],
   "source": [
    "print(\"Polynomial Linear Regression: Degree 5\")\n",
    "\n",
    "n = 5\n",
    "b = poly_regression(x, y, n)\n",
    "\n",
    "#y_pred = b[0] + b[1] * x + b[2] * x**2 + b[3] * x**3 + b[4] * x**4 + b[5] * x**5\n",
    "y_pred = predict(x, b)\n",
    "\n",
    "error = y_pred - y\n",
    "print(\"\\nError:\", error)\n",
    "\n",
    "print(\"\\nMSE:\", (error ** 2).mean())\n",
    "\n",
    "print(\"\\nRMSE:\", np.sqrt((error ** 2).mean()))"
   ]
  },
  {
   "cell_type": "markdown",
   "id": "328e84d3",
   "metadata": {},
   "source": [
    "-----------------------\n",
    "Question 2\n",
    "--------------------------"
   ]
  },
  {
   "cell_type": "code",
   "execution_count": 66,
   "id": "35c6587c",
   "metadata": {
    "scrolled": true
   },
   "outputs": [
    {
     "data": {
      "text/html": [
       "<div>\n",
       "<style scoped>\n",
       "    .dataframe tbody tr th:only-of-type {\n",
       "        vertical-align: middle;\n",
       "    }\n",
       "\n",
       "    .dataframe tbody tr th {\n",
       "        vertical-align: top;\n",
       "    }\n",
       "\n",
       "    .dataframe thead th {\n",
       "        text-align: right;\n",
       "    }\n",
       "</style>\n",
       "<table border=\"1\" class=\"dataframe\">\n",
       "  <thead>\n",
       "    <tr style=\"text-align: right;\">\n",
       "      <th></th>\n",
       "      <th>infarc</th>\n",
       "      <th>area</th>\n",
       "      <th>group</th>\n",
       "      <th>x2</th>\n",
       "      <th>x3</th>\n",
       "    </tr>\n",
       "  </thead>\n",
       "  <tbody>\n",
       "    <tr>\n",
       "      <th>0</th>\n",
       "      <td>0.1190</td>\n",
       "      <td>0.34</td>\n",
       "      <td>3</td>\n",
       "      <td>0</td>\n",
       "      <td>0</td>\n",
       "    </tr>\n",
       "    <tr>\n",
       "      <th>1</th>\n",
       "      <td>0.1900</td>\n",
       "      <td>0.64</td>\n",
       "      <td>3</td>\n",
       "      <td>0</td>\n",
       "      <td>0</td>\n",
       "    </tr>\n",
       "    <tr>\n",
       "      <th>2</th>\n",
       "      <td>0.3950</td>\n",
       "      <td>0.76</td>\n",
       "      <td>3</td>\n",
       "      <td>0</td>\n",
       "      <td>0</td>\n",
       "    </tr>\n",
       "    <tr>\n",
       "      <th>3</th>\n",
       "      <td>0.4690</td>\n",
       "      <td>0.83</td>\n",
       "      <td>3</td>\n",
       "      <td>0</td>\n",
       "      <td>0</td>\n",
       "    </tr>\n",
       "    <tr>\n",
       "      <th>4</th>\n",
       "      <td>0.1300</td>\n",
       "      <td>0.73</td>\n",
       "      <td>3</td>\n",
       "      <td>0</td>\n",
       "      <td>0</td>\n",
       "    </tr>\n",
       "    <tr>\n",
       "      <th>5</th>\n",
       "      <td>0.3110</td>\n",
       "      <td>0.82</td>\n",
       "      <td>3</td>\n",
       "      <td>0</td>\n",
       "      <td>0</td>\n",
       "    </tr>\n",
       "    <tr>\n",
       "      <th>6</th>\n",
       "      <td>0.4118</td>\n",
       "      <td>0.95</td>\n",
       "      <td>3</td>\n",
       "      <td>0</td>\n",
       "      <td>0</td>\n",
       "    </tr>\n",
       "    <tr>\n",
       "      <th>7</th>\n",
       "      <td>0.4800</td>\n",
       "      <td>1.06</td>\n",
       "      <td>3</td>\n",
       "      <td>0</td>\n",
       "      <td>0</td>\n",
       "    </tr>\n",
       "    <tr>\n",
       "      <th>8</th>\n",
       "      <td>0.6870</td>\n",
       "      <td>1.20</td>\n",
       "      <td>3</td>\n",
       "      <td>0</td>\n",
       "      <td>0</td>\n",
       "    </tr>\n",
       "    <tr>\n",
       "      <th>9</th>\n",
       "      <td>0.8470</td>\n",
       "      <td>1.47</td>\n",
       "      <td>3</td>\n",
       "      <td>0</td>\n",
       "      <td>0</td>\n",
       "    </tr>\n",
       "    <tr>\n",
       "      <th>10</th>\n",
       "      <td>0.0620</td>\n",
       "      <td>0.44</td>\n",
       "      <td>1</td>\n",
       "      <td>1</td>\n",
       "      <td>0</td>\n",
       "    </tr>\n",
       "    <tr>\n",
       "      <th>11</th>\n",
       "      <td>0.1220</td>\n",
       "      <td>0.77</td>\n",
       "      <td>1</td>\n",
       "      <td>1</td>\n",
       "      <td>0</td>\n",
       "    </tr>\n",
       "    <tr>\n",
       "      <th>12</th>\n",
       "      <td>0.0330</td>\n",
       "      <td>0.90</td>\n",
       "      <td>1</td>\n",
       "      <td>1</td>\n",
       "      <td>0</td>\n",
       "    </tr>\n",
       "    <tr>\n",
       "      <th>13</th>\n",
       "      <td>0.1020</td>\n",
       "      <td>1.07</td>\n",
       "      <td>1</td>\n",
       "      <td>1</td>\n",
       "      <td>0</td>\n",
       "    </tr>\n",
       "    <tr>\n",
       "      <th>14</th>\n",
       "      <td>0.2060</td>\n",
       "      <td>1.01</td>\n",
       "      <td>1</td>\n",
       "      <td>1</td>\n",
       "      <td>0</td>\n",
       "    </tr>\n",
       "    <tr>\n",
       "      <th>15</th>\n",
       "      <td>0.2490</td>\n",
       "      <td>1.03</td>\n",
       "      <td>1</td>\n",
       "      <td>1</td>\n",
       "      <td>0</td>\n",
       "    </tr>\n",
       "    <tr>\n",
       "      <th>16</th>\n",
       "      <td>0.2200</td>\n",
       "      <td>1.16</td>\n",
       "      <td>1</td>\n",
       "      <td>1</td>\n",
       "      <td>0</td>\n",
       "    </tr>\n",
       "    <tr>\n",
       "      <th>17</th>\n",
       "      <td>0.2990</td>\n",
       "      <td>1.21</td>\n",
       "      <td>1</td>\n",
       "      <td>1</td>\n",
       "      <td>0</td>\n",
       "    </tr>\n",
       "    <tr>\n",
       "      <th>18</th>\n",
       "      <td>0.3500</td>\n",
       "      <td>1.20</td>\n",
       "      <td>1</td>\n",
       "      <td>1</td>\n",
       "      <td>0</td>\n",
       "    </tr>\n",
       "    <tr>\n",
       "      <th>19</th>\n",
       "      <td>0.3500</td>\n",
       "      <td>1.22</td>\n",
       "      <td>1</td>\n",
       "      <td>1</td>\n",
       "      <td>0</td>\n",
       "    </tr>\n",
       "    <tr>\n",
       "      <th>20</th>\n",
       "      <td>0.5880</td>\n",
       "      <td>0.99</td>\n",
       "      <td>1</td>\n",
       "      <td>1</td>\n",
       "      <td>0</td>\n",
       "    </tr>\n",
       "    <tr>\n",
       "      <th>21</th>\n",
       "      <td>0.3790</td>\n",
       "      <td>0.77</td>\n",
       "      <td>2</td>\n",
       "      <td>0</td>\n",
       "      <td>1</td>\n",
       "    </tr>\n",
       "    <tr>\n",
       "      <th>22</th>\n",
       "      <td>0.1490</td>\n",
       "      <td>1.05</td>\n",
       "      <td>2</td>\n",
       "      <td>0</td>\n",
       "      <td>1</td>\n",
       "    </tr>\n",
       "    <tr>\n",
       "      <th>23</th>\n",
       "      <td>0.3160</td>\n",
       "      <td>1.06</td>\n",
       "      <td>2</td>\n",
       "      <td>0</td>\n",
       "      <td>1</td>\n",
       "    </tr>\n",
       "    <tr>\n",
       "      <th>24</th>\n",
       "      <td>0.3900</td>\n",
       "      <td>1.02</td>\n",
       "      <td>2</td>\n",
       "      <td>0</td>\n",
       "      <td>1</td>\n",
       "    </tr>\n",
       "    <tr>\n",
       "      <th>25</th>\n",
       "      <td>0.4290</td>\n",
       "      <td>0.99</td>\n",
       "      <td>2</td>\n",
       "      <td>0</td>\n",
       "      <td>1</td>\n",
       "    </tr>\n",
       "    <tr>\n",
       "      <th>26</th>\n",
       "      <td>0.4770</td>\n",
       "      <td>0.97</td>\n",
       "      <td>2</td>\n",
       "      <td>0</td>\n",
       "      <td>1</td>\n",
       "    </tr>\n",
       "    <tr>\n",
       "      <th>27</th>\n",
       "      <td>0.4390</td>\n",
       "      <td>1.12</td>\n",
       "      <td>2</td>\n",
       "      <td>0</td>\n",
       "      <td>1</td>\n",
       "    </tr>\n",
       "    <tr>\n",
       "      <th>28</th>\n",
       "      <td>0.4460</td>\n",
       "      <td>1.23</td>\n",
       "      <td>2</td>\n",
       "      <td>0</td>\n",
       "      <td>1</td>\n",
       "    </tr>\n",
       "    <tr>\n",
       "      <th>29</th>\n",
       "      <td>0.5380</td>\n",
       "      <td>1.19</td>\n",
       "      <td>2</td>\n",
       "      <td>0</td>\n",
       "      <td>1</td>\n",
       "    </tr>\n",
       "    <tr>\n",
       "      <th>30</th>\n",
       "      <td>0.6250</td>\n",
       "      <td>1.22</td>\n",
       "      <td>2</td>\n",
       "      <td>0</td>\n",
       "      <td>1</td>\n",
       "    </tr>\n",
       "    <tr>\n",
       "      <th>31</th>\n",
       "      <td>0.9740</td>\n",
       "      <td>1.40</td>\n",
       "      <td>2</td>\n",
       "      <td>0</td>\n",
       "      <td>1</td>\n",
       "    </tr>\n",
       "  </tbody>\n",
       "</table>\n",
       "</div>"
      ],
      "text/plain": [
       "    infarc  area  group  x2  x3\n",
       "0   0.1190  0.34      3   0   0\n",
       "1   0.1900  0.64      3   0   0\n",
       "2   0.3950  0.76      3   0   0\n",
       "3   0.4690  0.83      3   0   0\n",
       "4   0.1300  0.73      3   0   0\n",
       "5   0.3110  0.82      3   0   0\n",
       "6   0.4118  0.95      3   0   0\n",
       "7   0.4800  1.06      3   0   0\n",
       "8   0.6870  1.20      3   0   0\n",
       "9   0.8470  1.47      3   0   0\n",
       "10  0.0620  0.44      1   1   0\n",
       "11  0.1220  0.77      1   1   0\n",
       "12  0.0330  0.90      1   1   0\n",
       "13  0.1020  1.07      1   1   0\n",
       "14  0.2060  1.01      1   1   0\n",
       "15  0.2490  1.03      1   1   0\n",
       "16  0.2200  1.16      1   1   0\n",
       "17  0.2990  1.21      1   1   0\n",
       "18  0.3500  1.20      1   1   0\n",
       "19  0.3500  1.22      1   1   0\n",
       "20  0.5880  0.99      1   1   0\n",
       "21  0.3790  0.77      2   0   1\n",
       "22  0.1490  1.05      2   0   1\n",
       "23  0.3160  1.06      2   0   1\n",
       "24  0.3900  1.02      2   0   1\n",
       "25  0.4290  0.99      2   0   1\n",
       "26  0.4770  0.97      2   0   1\n",
       "27  0.4390  1.12      2   0   1\n",
       "28  0.4460  1.23      2   0   1\n",
       "29  0.5380  1.19      2   0   1\n",
       "30  0.6250  1.22      2   0   1\n",
       "31  0.9740  1.40      2   0   1"
      ]
     },
     "execution_count": 66,
     "metadata": {},
     "output_type": "execute_result"
    }
   ],
   "source": [
    "df = pd.read_csv('rabbit_data.csv')\n",
    "df"
   ]
  },
  {
   "cell_type": "code",
   "execution_count": 155,
   "id": "c6f5bcc5",
   "metadata": {},
   "outputs": [],
   "source": [
    "class SimpleMultipleRegressionModel:\n",
    "    def __init__(self, b=0):\n",
    "        self.b = b\n",
    "        \n",
    "    def predict(self, x):\n",
    "        bias_col = np.ones((x.shape[0], 1))\n",
    "        x = np.concatenate((bias_col, x), axis=1)\n",
    "        return x.dot(self.b)\n",
    "    \n",
    "def rmse(y, y_pred):\n",
    "    y = y.flatten()\n",
    "    y_pred = y_pred.flatten()\n",
    "    error = y_pred - y\n",
    "    mse = (error ** 2).mean()\n",
    "    rmse = np.sqrt(mse)\n",
    "    return rmse"
   ]
  },
  {
   "cell_type": "code",
   "execution_count": 156,
   "id": "b5cc2095",
   "metadata": {},
   "outputs": [
    {
     "data": {
      "text/plain": [
       "((32, 3), (32,))"
      ]
     },
     "execution_count": 156,
     "metadata": {},
     "output_type": "execute_result"
    }
   ],
   "source": [
    "x = df[['area', 'x2', 'x3']].values\n",
    "y = df.infarc.values\n",
    "x.shape, y.shape"
   ]
  },
  {
   "cell_type": "code",
   "execution_count": 157,
   "id": "186262cd",
   "metadata": {},
   "outputs": [],
   "source": [
    "X = [[x.shape[0], x[:,0].sum(), x[:, 1].sum(), x[:, 2].sum()],\n",
    "     [x[:, 0].sum(), (x[:, 0]**2).sum(), (x[:,0] * x[:, 1]).sum(), (x[:,0] * x[:, 2]).sum()],\n",
    "     [x[:, 1].sum(), (x[:, 0] * x[:, 1]).sum(), (x[:, 1]**2).sum(), (x[:,1] * x[:, 2]).sum()],\n",
    "     [x[:, 2].sum(), (x[:, 1] * x[:, 2]).sum(), (x[:, 1] * x[:, 2]).sum(), (x[:, 2]**2).sum()]]"
   ]
  },
  {
   "cell_type": "code",
   "execution_count": 158,
   "id": "81b0af50",
   "metadata": {},
   "outputs": [
    {
     "data": {
      "text/plain": [
       "array([[32.    , 31.82  , 11.    , 11.    ],\n",
       "       [31.82  , 33.5768, 11.    , 12.02  ],\n",
       "       [11.    , 11.    , 11.    ,  0.    ],\n",
       "       [11.    ,  0.    ,  0.    , 11.    ]])"
      ]
     },
     "execution_count": 158,
     "metadata": {},
     "output_type": "execute_result"
    }
   ],
   "source": [
    "X = np.array(X).reshape(4,4)\n",
    "X"
   ]
  },
  {
   "cell_type": "code",
   "execution_count": 159,
   "id": "822b4499",
   "metadata": {},
   "outputs": [
    {
     "data": {
      "text/plain": [
       "array([[11.7828 ],\n",
       "       [12.81667],\n",
       "       [ 2.581  ],\n",
       "       [ 5.162  ]])"
      ]
     },
     "execution_count": 159,
     "metadata": {},
     "output_type": "execute_result"
    }
   ],
   "source": [
    "Y = [y.sum(), (y * x[:, 0]).sum(), (y * x[:, 1]).sum(), (y * x[:, 2]).sum()]\n",
    "Y = np.array(Y).reshape(4,1)\n",
    "Y"
   ]
  },
  {
   "cell_type": "code",
   "execution_count": 160,
   "id": "783faf37",
   "metadata": {},
   "outputs": [
    {
     "data": {
      "text/plain": [
       "array([[-0.10486909],\n",
       "       [ 0.24440398],\n",
       "       [ 0.09510147],\n",
       "       [ 0.57414181]])"
      ]
     },
     "execution_count": 160,
     "metadata": {},
     "output_type": "execute_result"
    }
   ],
   "source": [
    "b = np.matmul(np.linalg.inv(X), Y)\n",
    "b"
   ]
  },
  {
   "cell_type": "code",
   "execution_count": 163,
   "id": "a8a280e2",
   "metadata": {},
   "outputs": [],
   "source": [
    "multi_matrix = SimpleMultipleRegressionModel(b)\n",
    "\n",
    "y_pred = multi_matrix.predict(x)"
   ]
  },
  {
   "cell_type": "code",
   "execution_count": 164,
   "id": "6d6bca32",
   "metadata": {},
   "outputs": [
    {
     "data": {
      "text/plain": [
       "0.2751638492473441"
      ]
     },
     "execution_count": 164,
     "metadata": {},
     "output_type": "execute_result"
    }
   ],
   "source": [
    "rmse(y, y_pred)"
   ]
  },
  {
   "cell_type": "code",
   "execution_count": 165,
   "id": "72080713",
   "metadata": {
    "scrolled": false
   },
   "outputs": [
    {
     "data": {
      "text/plain": [
       "(array([[-0.02177173],\n",
       "        [ 0.05154946],\n",
       "        [ 0.08087794],\n",
       "        [ 0.09798622],\n",
       "        [ 0.07354582],\n",
       "        [ 0.09554218],\n",
       "        [ 0.12731469],\n",
       "        [ 0.15419913],\n",
       "        [ 0.18841569],\n",
       "        [ 0.25440476],\n",
       "        [ 0.09777013],\n",
       "        [ 0.17842345],\n",
       "        [ 0.21019597],\n",
       "        [ 0.25174464],\n",
       "        [ 0.2370804 ],\n",
       "        [ 0.24196848],\n",
       "        [ 0.273741  ],\n",
       "        [ 0.2859612 ],\n",
       "        [ 0.28351716],\n",
       "        [ 0.28840524],\n",
       "        [ 0.23219232],\n",
       "        [ 0.65746379],\n",
       "        [ 0.72589691],\n",
       "        [ 0.72834095],\n",
       "        [ 0.71856479],\n",
       "        [ 0.71123267],\n",
       "        [ 0.70634459],\n",
       "        [ 0.74300519],\n",
       "        [ 0.76988962],\n",
       "        [ 0.76011346],\n",
       "        [ 0.76744558],\n",
       "        [ 0.8114383 ]]),\n",
       " array([0.119 , 0.19  , 0.395 , 0.469 , 0.13  , 0.311 , 0.4118, 0.48  ,\n",
       "        0.687 , 0.847 , 0.062 , 0.122 , 0.033 , 0.102 , 0.206 , 0.249 ,\n",
       "        0.22  , 0.299 , 0.35  , 0.35  , 0.588 , 0.379 , 0.149 , 0.316 ,\n",
       "        0.39  , 0.429 , 0.477 , 0.439 , 0.446 , 0.538 , 0.625 , 0.974 ]))"
      ]
     },
     "execution_count": 165,
     "metadata": {},
     "output_type": "execute_result"
    }
   ],
   "source": [
    "y_pred, y"
   ]
  },
  {
   "cell_type": "code",
   "execution_count": 166,
   "id": "b89548af",
   "metadata": {},
   "outputs": [
    {
     "data": {
      "text/plain": [
       "0.35167800281335215"
      ]
     },
     "execution_count": 166,
     "metadata": {},
     "output_type": "execute_result"
    }
   ],
   "source": [
    "np.sqrt(((y_pred - y) ** 2).mean())"
   ]
  }
 ],
 "metadata": {
  "kernelspec": {
   "display_name": "Python 3 (ipykernel)",
   "language": "python",
   "name": "python3"
  },
  "language_info": {
   "codemirror_mode": {
    "name": "ipython",
    "version": 3
   },
   "file_extension": ".py",
   "mimetype": "text/x-python",
   "name": "python",
   "nbconvert_exporter": "python",
   "pygments_lexer": "ipython3",
   "version": "3.12.3"
  }
 },
 "nbformat": 4,
 "nbformat_minor": 5
}
