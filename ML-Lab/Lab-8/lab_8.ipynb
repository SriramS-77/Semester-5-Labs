{
 "cells": [
  {
   "cell_type": "code",
   "execution_count": 19,
   "id": "36b14209",
   "metadata": {},
   "outputs": [],
   "source": [
    "import numpy as np\n",
    "import pandas as pd\n",
    "import matplotlib.pyplot as plt"
   ]
  },
  {
   "cell_type": "markdown",
   "id": "72c4db55",
   "metadata": {},
   "source": [
    "----------------------\n",
    "## Question 1-A\n",
    "----------------------"
   ]
  },
  {
   "cell_type": "code",
   "execution_count": 35,
   "id": "c09ce567",
   "metadata": {},
   "outputs": [
    {
     "data": {
      "text/html": [
       "<div>\n",
       "<style scoped>\n",
       "    .dataframe tbody tr th:only-of-type {\n",
       "        vertical-align: middle;\n",
       "    }\n",
       "\n",
       "    .dataframe tbody tr th {\n",
       "        vertical-align: top;\n",
       "    }\n",
       "\n",
       "    .dataframe thead th {\n",
       "        text-align: right;\n",
       "    }\n",
       "</style>\n",
       "<table border=\"1\" class=\"dataframe\">\n",
       "  <thead>\n",
       "    <tr style=\"text-align: right;\">\n",
       "      <th></th>\n",
       "      <th>id</th>\n",
       "      <th>weight</th>\n",
       "      <th>sweetness</th>\n",
       "      <th>label</th>\n",
       "    </tr>\n",
       "  </thead>\n",
       "  <tbody>\n",
       "    <tr>\n",
       "      <th>0</th>\n",
       "      <td>1</td>\n",
       "      <td>180</td>\n",
       "      <td>7</td>\n",
       "      <td>Apple</td>\n",
       "    </tr>\n",
       "    <tr>\n",
       "      <th>1</th>\n",
       "      <td>2</td>\n",
       "      <td>200</td>\n",
       "      <td>6</td>\n",
       "      <td>Apple</td>\n",
       "    </tr>\n",
       "    <tr>\n",
       "      <th>2</th>\n",
       "      <td>3</td>\n",
       "      <td>150</td>\n",
       "      <td>4</td>\n",
       "      <td>Orange</td>\n",
       "    </tr>\n",
       "    <tr>\n",
       "      <th>3</th>\n",
       "      <td>4</td>\n",
       "      <td>170</td>\n",
       "      <td>5</td>\n",
       "      <td>Orange</td>\n",
       "    </tr>\n",
       "    <tr>\n",
       "      <th>4</th>\n",
       "      <td>5</td>\n",
       "      <td>160</td>\n",
       "      <td>6</td>\n",
       "      <td>Apple</td>\n",
       "    </tr>\n",
       "    <tr>\n",
       "      <th>5</th>\n",
       "      <td>6</td>\n",
       "      <td>140</td>\n",
       "      <td>3</td>\n",
       "      <td>Orange</td>\n",
       "    </tr>\n",
       "  </tbody>\n",
       "</table>\n",
       "</div>"
      ],
      "text/plain": [
       "   id  weight  sweetness   label\n",
       "0   1     180          7   Apple\n",
       "1   2     200          6   Apple\n",
       "2   3     150          4  Orange\n",
       "3   4     170          5  Orange\n",
       "4   5     160          6   Apple\n",
       "5   6     140          3  Orange"
      ]
     },
     "execution_count": 35,
     "metadata": {},
     "output_type": "execute_result"
    }
   ],
   "source": [
    "df = pd.read_csv('data.csv')\n",
    "df"
   ]
  },
  {
   "cell_type": "code",
   "execution_count": 3,
   "id": "d29272f2",
   "metadata": {},
   "outputs": [
    {
     "name": "stdout",
     "output_type": "stream",
     "text": [
      "   id  weight  sweetness   label  distance\n",
      "0   5    0.80   0.857143   Apple  0.075677\n",
      "1   4    0.85   0.714286  Orange  0.075677\n",
      "2   2    1.00   0.857143   Apple  0.189016\n",
      "3   3    0.75   0.571429  Orange  0.227032\n",
      "4   1    0.90   1.000000   Apple  0.227032\n",
      "5   6    0.70   0.428571  Orange  0.378386\n"
     ]
    },
    {
     "data": {
      "text/plain": [
       "'Apple'"
      ]
     },
     "execution_count": 3,
     "metadata": {},
     "output_type": "execute_result"
    }
   ],
   "source": [
    "from math import sqrt\n",
    "\n",
    "def knn_predict(df, weight, sweetness, k=3, metric='euclidean'):\n",
    "    df = df.copy()\n",
    "    weight /= df['weight'].max()\n",
    "    sweetness /= df['sweetness'].max()\n",
    "    df['weight'] /= df['weight'].max()\n",
    "    df['sweetness'] /= df['sweetness'].max()\n",
    "    df['distance'] = df.apply(lambda x: sqrt((x.weight - weight)**2 + (x.sweetness - sweetness)**2), axis=1)\n",
    "    \n",
    "    df.sort_values(by='distance', inplace=True)\n",
    "    df.reset_index(drop=True, inplace=True)\n",
    "    print(df.head(10))\n",
    "    return df.loc[:k-1, 'label'].value_counts(sort=True, ascending=False).index[0]\n",
    "\n",
    "knn_predict(df, 165, 5.5, k=3)"
   ]
  },
  {
   "cell_type": "code",
   "execution_count": null,
   "id": "3a42a4c7",
   "metadata": {},
   "outputs": [],
   "source": [
    "df"
   ]
  },
  {
   "cell_type": "code",
   "execution_count": 6,
   "id": "4e644633",
   "metadata": {},
   "outputs": [
    {
     "name": "stdout",
     "output_type": "stream",
     "text": [
      "Decision Boundary for K = 3:\n"
     ]
    },
    {
     "data": {
      "image/png": "[encoded data removed]",
      "text/plain": [
       "<Figure size 640x480 with 1 Axes>"
      ]
     },
     "metadata": {},
     "output_type": "display_data"
    }
   ],
   "source": [
    "k = 3\n",
    "\n",
    "color_map = {'Apple': 'red',\n",
    "             'Orange': 'orange'}\n",
    "\n",
    "weight_min, weight_max = int(df.weight.min()), int(df.weight.max())\n",
    "sweetness_min, sweetness_max = int(df.sweetness.min()), int(df.sweetness.max())\n",
    "\n",
    "boundary = []\n",
    "# (weight_max - weight_min) // 100 + 1   (sweetness_max - sweetness_min) // 100 + 1\n",
    "\n",
    "prev_label = None\n",
    "\n",
    "for i in np.linspace(weight_min, weight_max, 100):\n",
    "    prev_label = None\n",
    "    for j in np.linspace(sweetness_min, sweetness_max, 50):\n",
    "        cur_label = knn_predict(df, i, j, k=k)\n",
    "        if prev_label is not None and prev_label != cur_label:\n",
    "            boundary.append([i, j])\n",
    "        prev_label = cur_label\n",
    "            \n",
    "w = [i[0] for i in boundary]\n",
    "s = [i[1] for i in boundary]\n",
    "            \n",
    "fig = plt.figure()\n",
    "plt.scatter(df.weight, df.sweetness, c=df.label.map(color_map))\n",
    "# plt.scatter(165, 5.5)\n",
    "\n",
    "plt.plot(w, s, 'black')\n",
    "\n",
    "print(f'Decision Boundary for K = {k}:')\n",
    "\n",
    "plt.show()"
   ]
  },
  {
   "cell_type": "markdown",
   "id": "2da6909e",
   "metadata": {},
   "source": [
    "----------------------\n",
    "## Question 1-B\n",
    "----------------------"
   ]
  },
  {
   "cell_type": "code",
   "execution_count": 46,
   "id": "890c26eb",
   "metadata": {},
   "outputs": [
    {
     "name": "stdout",
     "output_type": "stream",
     "text": [
      "[[180   7]\n",
      " [200   6]\n",
      " [150   4]\n",
      " [170   5]\n",
      " [160   6]\n",
      " [140   3]]\n",
      "[[0.66666667 1.        ]\n",
      " [1.         0.75      ]\n",
      " [0.16666667 0.25      ]\n",
      " [0.5        0.5       ]\n",
      " [0.33333333 0.75      ]\n",
      " [0.         0.        ]]\n"
     ]
    },
    {
     "data": {
      "text/plain": [
       "array(['Orange'], dtype=object)"
      ]
     },
     "execution_count": 46,
     "metadata": {},
     "output_type": "execute_result"
    }
   ],
   "source": [
    "from sklearn.neighbors import KNeighborsClassifier\n",
    "from sklearn.preprocessing import MinMaxScaler\n",
    "\n",
    "\n",
    "k = 3\n",
    "\n",
    "scaler = MinMaxScaler()\n",
    "\n",
    "model = KNeighborsClassifier(n_neighbors=k)\n",
    "\n",
    "X = df[['weight', 'sweetness']].values.copy()\n",
    "\n",
    "scaler.fit(X)\n",
    "\n",
    "print(X)\n",
    "X = scaler.transform(X)\n",
    "print(X)\n",
    "\n",
    "\"\"\"\n",
    "weight_min, weight_max = df.weight.min(), df.weight.max()\n",
    "sweetness_min, sweetness_max = df.sweetness.min(), df.sweetness.max()\n",
    "\n",
    "X[:, 0] -= X[:, 0].min()\n",
    "X[:, 1] -= X[:, 1].min()\n",
    "X[:, 0] /= X[:, 0].max()\n",
    "X[:, 1] /= X[:, 1].max()\n",
    "\"\"\"\n",
    "\n",
    "model.fit(X, df.label)\n",
    "\n",
    "model.predict(scaler.transform([[150, 4]]))"
   ]
  },
  {
   "cell_type": "code",
   "execution_count": 47,
   "id": "5cbc8db6",
   "metadata": {},
   "outputs": [
    {
     "name": "stdout",
     "output_type": "stream",
     "text": [
      "Decision Boundary for K = 3:\n"
     ]
    },
    {
     "data": {
      "image/png": "[encoded data removed]",
      "text/plain": [
       "<Figure size 640x480 with 1 Axes>"
      ]
     },
     "metadata": {},
     "output_type": "display_data"
    }
   ],
   "source": [
    "color_map = {'Apple': 'red',\n",
    "             'Orange': 'orange'}\n",
    "\n",
    "boundary = []\n",
    "\n",
    "prev_label = None\n",
    "\n",
    "for i in np.linspace(weight_min, weight_max, 100):\n",
    "    prev_label = None\n",
    "    for j in np.linspace(sweetness_min, sweetness_max, 100):\n",
    "        cur_label = model.predict(scaler.transform([[i, j]]))[0]\n",
    "        if prev_label is not None and prev_label != cur_label:\n",
    "            boundary.append([i, j])\n",
    "        prev_label = cur_label\n",
    "            \n",
    "w = [i[0] for i in boundary]\n",
    "s = [i[1] for i in boundary]\n",
    "            \n",
    "fig = plt.figure()\n",
    "plt.scatter(df.weight, df.sweetness, c=df.label.map(color_map))\n",
    "# plt.scatter(165, 5.5)\n",
    "\n",
    "plt.plot(w, s, 'black')\n",
    "# print(boundary)\n",
    "\n",
    "print(f'Decision Boundary for K = {k}:')\n",
    "\n",
    "plt.show()"
   ]
  },
  {
   "cell_type": "markdown",
   "id": "c52da4dc",
   "metadata": {},
   "source": [
    "----------------------\n",
    "## Question 2-A\n",
    "----------------------"
   ]
  },
  {
   "cell_type": "code",
   "execution_count": 51,
   "id": "a0a8da99",
   "metadata": {},
   "outputs": [
    {
     "data": {
      "text/html": [
       "<div>\n",
       "<style scoped>\n",
       "    .dataframe tbody tr th:only-of-type {\n",
       "        vertical-align: middle;\n",
       "    }\n",
       "\n",
       "    .dataframe tbody tr th {\n",
       "        vertical-align: top;\n",
       "    }\n",
       "\n",
       "    .dataframe thead th {\n",
       "        text-align: right;\n",
       "    }\n",
       "</style>\n",
       "<table border=\"1\" class=\"dataframe\">\n",
       "  <thead>\n",
       "    <tr style=\"text-align: right;\">\n",
       "      <th></th>\n",
       "      <th>id</th>\n",
       "      <th>age</th>\n",
       "      <th>bp</th>\n",
       "      <th>cholesterol</th>\n",
       "      <th>diagnosis</th>\n",
       "    </tr>\n",
       "  </thead>\n",
       "  <tbody>\n",
       "    <tr>\n",
       "      <th>0</th>\n",
       "      <td>1</td>\n",
       "      <td>30</td>\n",
       "      <td>High</td>\n",
       "      <td>High</td>\n",
       "      <td>Sick</td>\n",
       "    </tr>\n",
       "    <tr>\n",
       "      <th>1</th>\n",
       "      <td>2</td>\n",
       "      <td>45</td>\n",
       "      <td>Low</td>\n",
       "      <td>Normal</td>\n",
       "      <td>Healthy</td>\n",
       "    </tr>\n",
       "    <tr>\n",
       "      <th>2</th>\n",
       "      <td>3</td>\n",
       "      <td>50</td>\n",
       "      <td>High</td>\n",
       "      <td>High</td>\n",
       "      <td>Sick</td>\n",
       "    </tr>\n",
       "    <tr>\n",
       "      <th>3</th>\n",
       "      <td>4</td>\n",
       "      <td>35</td>\n",
       "      <td>Low</td>\n",
       "      <td>Normal</td>\n",
       "      <td>Healthy</td>\n",
       "    </tr>\n",
       "    <tr>\n",
       "      <th>4</th>\n",
       "      <td>5</td>\n",
       "      <td>60</td>\n",
       "      <td>High</td>\n",
       "      <td>High</td>\n",
       "      <td>Sick</td>\n",
       "    </tr>\n",
       "    <tr>\n",
       "      <th>5</th>\n",
       "      <td>6</td>\n",
       "      <td>55</td>\n",
       "      <td>Low</td>\n",
       "      <td>Normal</td>\n",
       "      <td>Healthy</td>\n",
       "    </tr>\n",
       "    <tr>\n",
       "      <th>6</th>\n",
       "      <td>7</td>\n",
       "      <td>40</td>\n",
       "      <td>High</td>\n",
       "      <td>High</td>\n",
       "      <td>Sick</td>\n",
       "    </tr>\n",
       "    <tr>\n",
       "      <th>7</th>\n",
       "      <td>8</td>\n",
       "      <td>25</td>\n",
       "      <td>Low</td>\n",
       "      <td>Normal</td>\n",
       "      <td>Healthy</td>\n",
       "    </tr>\n",
       "    <tr>\n",
       "      <th>8</th>\n",
       "      <td>9</td>\n",
       "      <td>65</td>\n",
       "      <td>High</td>\n",
       "      <td>High</td>\n",
       "      <td>Sick</td>\n",
       "    </tr>\n",
       "    <tr>\n",
       "      <th>9</th>\n",
       "      <td>10</td>\n",
       "      <td>45</td>\n",
       "      <td>Low</td>\n",
       "      <td>Normal</td>\n",
       "      <td>Healthy</td>\n",
       "    </tr>\n",
       "  </tbody>\n",
       "</table>\n",
       "</div>"
      ],
      "text/plain": [
       "   id  age    bp cholesterol diagnosis\n",
       "0   1   30  High        High      Sick\n",
       "1   2   45   Low      Normal   Healthy\n",
       "2   3   50  High        High      Sick\n",
       "3   4   35   Low      Normal   Healthy\n",
       "4   5   60  High        High      Sick\n",
       "5   6   55   Low      Normal   Healthy\n",
       "6   7   40  High        High      Sick\n",
       "7   8   25   Low      Normal   Healthy\n",
       "8   9   65  High        High      Sick\n",
       "9  10   45   Low      Normal   Healthy"
      ]
     },
     "execution_count": 51,
     "metadata": {},
     "output_type": "execute_result"
    }
   ],
   "source": [
    "df = pd.read_csv('medical_data.csv')\n",
    "df.head(20)"
   ]
  },
  {
   "cell_type": "code",
   "execution_count": 52,
   "id": "ab39fd90",
   "metadata": {},
   "outputs": [
    {
     "data": {
      "text/plain": [
       "0.6931471805599453"
      ]
     },
     "execution_count": 52,
     "metadata": {},
     "output_type": "execute_result"
    }
   ],
   "source": [
    "def calc_entropy(df, target_col):\n",
    "    total = len(df)\n",
    "    vals = df[target_col].value_counts()\n",
    "    entropy = 0\n",
    "    for val in vals:\n",
    "        entropy += (val / total) * np.log(val / total)\n",
    "    entropy *= -1\n",
    "    return entropy\n",
    "\n",
    "def calc_info_gain(df, predictor_col, target_col):\n",
    "    total = len(df)\n",
    "    initial_entropy = calc_entropy(df, target_col)\n",
    "    cats = df[predictor_col].value_counts()\n",
    "    entropy_after_split = 0\n",
    "    for cat in cats.index:\n",
    "        entropy_after_split += (cats[cat] / total) * calc_entropy(df[df[predictor_col] == cat], target_col)\n",
    "        \n",
    "    return initial_entropy - entropy_after_split\n",
    "    \n",
    "calc_info_gain(df, 'bp', 'diagnosis')"
   ]
  },
  {
   "cell_type": "code",
   "execution_count": 53,
   "id": "57635b0f",
   "metadata": {},
   "outputs": [
    {
     "name": "stdout",
     "output_type": "stream",
     "text": [
      "Information Gain for column age: 0.6931471805599453\n",
      "Information Gain for column bp: 0.6931471805599453\n",
      "Information Gain for column cholesterol: 0.6931471805599453\n"
     ]
    }
   ],
   "source": [
    "for col in ['age', 'bp', 'cholesterol']:\n",
    "    gain = calc_info_gain(df, col, 'diagnosis')\n",
    "    print(f\"Information Gain for column {col}: {gain}\")"
   ]
  },
  {
   "cell_type": "code",
   "execution_count": 66,
   "id": "d6d5c5ec",
   "metadata": {},
   "outputs": [],
   "source": [
    "# Function to recursively build the decision tree using ID3 algorithm\n",
    "def id3(data, original_data, features, target_attribute, parent_node_class=None):\n",
    "    # Base case 1: If all target values are the same, return the class\n",
    "    if len(np.unique(data[target_attribute])) <= 1:\n",
    "        return np.unique(data[target_attribute])[0]\n",
    "    \n",
    "    # Base case 2: If dataset is empty, return the mode target feature value from the original dataset\n",
    "    elif len(data) == 0:\n",
    "        return np.unique(original_data[target_attribute])[np.argmax(np.unique(original_data[target_attribute], return_counts=True)[1])]\n",
    "    \n",
    "    # Base case 3: If the feature space is empty, return the parent node class\n",
    "    elif len(features) == 0:\n",
    "        return parent_node_class\n",
    "    \n",
    "    # Recursive case: Build the tree\n",
    "    else:\n",
    "        print(np.argmax(np.unique(data[target_attribute], return_counts=True)[1]))\n",
    "        # Store the parent node class (the mode target feature value)\n",
    "        parent_node_class = np.unique(data[target_attribute])[np.argmax(np.unique(data[target_attribute], return_counts=True)[1])]\n",
    "        \n",
    "        # Select the feature that best splits the dataset\n",
    "        item_values = [calc_info_gain(data, feature, target_attribute) for feature in features]  # List of information gains\n",
    "        best_feature_index = np.argmax(item_values)\n",
    "        best_feature = features[best_feature_index]\n",
    "        \n",
    "        # Create the tree str ucture\n",
    "        tree = {best_feature: {}}\n",
    "        \n",
    "        # Remove the best feature from the feature list\n",
    "        features = [i for i in features if i != best_feature]\n",
    "        \n",
    "        # Grow the tree branch by branch for each feature in the best split\n",
    "        for value in np.unique(data[best_feature]):\n",
    "            sub_data = data[data[best_feature] == value]\n",
    "            subtree = id3(sub_data, original_data, features, target_attribute, parent_node_class)\n",
    "            tree[best_feature][value] = subtree\n",
    "        \n",
    "        return tree\n",
    "    \n",
    "    \n",
    "def id3_predict(tree, data):\n",
    "    sub_tree = tree\n",
    "    while isinstance(sub_tree, dict):\n",
    "        feature = list(sub_tree.keys())[0]\n",
    "        sub_tree = sub_tree[feature][data[feature]]\n",
    "    return sub_tree"
   ]
  },
  {
   "cell_type": "code",
   "execution_count": 67,
   "id": "2ec96e31",
   "metadata": {},
   "outputs": [
    {
     "data": {
      "text/plain": [
       "Index(['bp', 'cholesterol'], dtype='object')"
      ]
     },
     "execution_count": 67,
     "metadata": {},
     "output_type": "execute_result"
    }
   ],
   "source": [
    "df.columns[2:-1]"
   ]
  },
  {
   "cell_type": "code",
   "execution_count": 68,
   "id": "33d1034e",
   "metadata": {},
   "outputs": [
    {
     "data": {
      "text/plain": [
       "{'bp': {'High': 'Sick', 'Low': 'Healthy'}}"
      ]
     },
     "execution_count": 68,
     "metadata": {},
     "output_type": "execute_result"
    }
   ],
   "source": [
    "tree = id3(df, df, df.columns[2: -1], 'diagnosis')\n",
    "tree"
   ]
  },
  {
   "cell_type": "code",
   "execution_count": 81,
   "id": "4f916957",
   "metadata": {},
   "outputs": [
    {
     "data": {
      "text/plain": [
       "'Healthy'"
      ]
     },
     "execution_count": 81,
     "metadata": {},
     "output_type": "execute_result"
    }
   ],
   "source": [
    "id3_predict(tree, {'age': 50, 'bp': 'Low', 'chlesterol': 'Normal'})"
   ]
  }
 ],
 "metadata": {
  "kernelspec": {
   "display_name": "Python 3 (ipykernel)",
   "language": "python",
   "name": "python3"
  },
  "language_info": {
   "codemirror_mode": {
    "name": "ipython",
    "version": 3
   },
   "file_extension": ".py",
   "mimetype": "text/x-python",
   "name": "python",
   "nbconvert_exporter": "python",
   "pygments_lexer": "ipython3",
   "version": "3.12.3"
  }
 },
 "nbformat": 4,
 "nbformat_minor": 5
}
