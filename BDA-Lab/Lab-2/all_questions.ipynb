{
 "cells": [
  {
   "cell_type": "code",
   "execution_count": 1,
   "id": "b3017186-ad71-483e-8d62-7d71efd24ce4",
   "metadata": {},
   "outputs": [],
   "source": [
    "import pyspark\n",
    "from pyspark import SparkContext\n",
    "from pyspark.sql import SparkSession"
   ]
  },
  {
   "cell_type": "code",
   "execution_count": 2,
   "id": "682f38f5-95c5-4932-baa7-88af768b021f",
   "metadata": {},
   "outputs": [
    {
     "name": "stderr",
     "output_type": "stream",
     "text": [
      "Setting default log level to \"WARN\".\n",
      "To adjust logging level use sc.setLogLevel(newLevel). For SparkR, use setLogLevel(newLevel).\n",
      "24/08/12 09:26:13 WARN NativeCodeLoader: Unable to load native-hadoop library for your platform... using builtin-java classes where applicable\n"
     ]
    }
   ],
   "source": [
    "spark = SparkSession.builder.appName(\"SparkOperations\").getOrCreate()"
   ]
  },
  {
   "cell_type": "code",
   "execution_count": 3,
   "id": "269aa271-393c-4081-9a78-f15003d06b4a",
   "metadata": {},
   "outputs": [
    {
     "name": "stdout",
     "output_type": "stream",
     "text": [
      "+---+\n",
      "|num|\n",
      "+---+\n",
      "|  1|\n",
      "|  4|\n",
      "|  7|\n",
      "| 10|\n",
      "| 13|\n",
      "| 16|\n",
      "| 19|\n",
      "| 22|\n",
      "| 25|\n",
      "| 28|\n",
      "| 31|\n",
      "| 34|\n",
      "| 37|\n",
      "| 40|\n",
      "| 43|\n",
      "| 46|\n",
      "| 49|\n",
      "| 52|\n",
      "| 55|\n",
      "| 58|\n",
      "+---+\n",
      "only showing top 20 rows\n",
      "\n"
     ]
    }
   ],
   "source": [
    "lst = [[i] for i in range(1, 100, 3)]\n",
    "df = spark.createDataFrame(lst, [\"num\"])\n",
    "df.show()"
   ]
  },
  {
   "cell_type": "code",
   "execution_count": 4,
   "id": "4a17abc3-47ae-4a34-9c20-77d611f37817",
   "metadata": {},
   "outputs": [
    {
     "name": "stdout",
     "output_type": "stream",
     "text": [
      "+-------+---+------+\n",
      "|   name|age|salary|\n",
      "+-------+---+------+\n",
      "|  Alice| 30|  3000|\n",
      "|    Bob| 45|  4000|\n",
      "|Charlie| 35|  3500|\n",
      "|  David| 50|  5000|\n",
      "|    Eve| 29|  2800|\n",
      "+-------+---+------+\n",
      "\n"
     ]
    }
   ],
   "source": [
    "data = [\n",
    "    (\"Alice\", 30, 3000),\n",
    "    (\"Bob\", 45, 4000),\n",
    "    (\"Charlie\", 35, 3500),\n",
    "    (\"David\", 50, 5000),\n",
    "    (\"Eve\", 29, 2800)\n",
    "]\n",
    "df = spark.createDataFrame(data, [\"name\", \"age\", \"salary\"])\n",
    "df.show()"
   ]
  },
  {
   "cell_type": "code",
   "execution_count": 5,
   "id": "a2d87fcf-68fa-49ff-8f15-3313e3dad4a3",
   "metadata": {},
   "outputs": [
    {
     "name": "stdout",
     "output_type": "stream",
     "text": [
      "Filtered DataFrame (age > 30):\n",
      "+-------+---+------+\n",
      "|   name|age|salary|\n",
      "+-------+---+------+\n",
      "|    Bob| 45|  4000|\n",
      "|Charlie| 35|  3500|\n",
      "|  David| 50|  5000|\n",
      "+-------+---+------+\n",
      "\n"
     ]
    }
   ],
   "source": [
    "# Filter rows where age is greater than 30\n",
    "df_filtered = df.filter(df[\"age\"] > 30)\n",
    "\n",
    "# Show the filtered DataFrame\n",
    "print(\"Filtered DataFrame (age > 30):\")\n",
    "df_filtered.show()"
   ]
  },
  {
   "cell_type": "code",
   "execution_count": 6,
   "id": "37a1a54a-e8c4-43f6-b117-62926008b6fa",
   "metadata": {},
   "outputs": [
    {
     "name": "stdout",
     "output_type": "stream",
     "text": [
      "+-------+---+------+---------------+\n",
      "|   name|age|salary|salary_increase|\n",
      "+-------+---+------+---------------+\n",
      "|  Alice| 30|  3000|            Low|\n",
      "|    Bob| 45|  4000|           High|\n",
      "|Charlie| 35|  3500|            Low|\n",
      "|  David| 50|  5000|           High|\n",
      "|    Eve| 29|  2800|            Low|\n",
      "+-------+---+------+---------------+\n",
      "\n"
     ]
    }
   ],
   "source": [
    "from pyspark.sql.functions import col, when\n",
    "\n",
    "df_with_column = df.withColumn(\n",
    "    \"salary_increase\",\n",
    "    when(col(\"salary\") < 4000, \"Low\")\n",
    "    .otherwise(\"High\")\n",
    ")\n",
    "\n",
    "df_with_column.show()"
   ]
  },
  {
   "cell_type": "code",
   "execution_count": 7,
   "id": "e736db1f-0b4c-480d-894e-2bb1bbc3b540",
   "metadata": {
    "scrolled": true
   },
   "outputs": [
    {
     "name": "stdout",
     "output_type": "stream",
     "text": [
      "5\n",
      "+-------+---+------+\n",
      "|   name|age|salary|\n",
      "+-------+---+------+\n",
      "|  Alice| 30|  3000|\n",
      "|    Bob| 45|  4000|\n",
      "|Charlie| 35|  3500|\n",
      "|  David| 50|  5000|\n",
      "|    Eve| 29|  2800|\n",
      "+-------+---+------+\n",
      "\n"
     ]
    }
   ],
   "source": [
    "print(df.count())\n",
    "df.show()"
   ]
  },
  {
   "cell_type": "code",
   "execution_count": 8,
   "id": "d53bf8a2-38c1-48ac-9c97-9bfb11be78f3",
   "metadata": {},
   "outputs": [
    {
     "name": "stdout",
     "output_type": "stream",
     "text": [
      "+-----------+\n",
      "|avg(salary)|\n",
      "+-----------+\n",
      "|     3660.0|\n",
      "+-----------+\n",
      "\n",
      "+-----------+\n",
      "|sum(salary)|\n",
      "+-----------+\n",
      "|      18300|\n",
      "+-----------+\n",
      "\n"
     ]
    }
   ],
   "source": [
    "df.agg({'salary': 'avg'}).show()\n",
    "df.agg({'salary': 'sum'}).show()"
   ]
  },
  {
   "cell_type": "code",
   "execution_count": 9,
   "id": "5de7df20-5594-4769-a374-32d15023bde0",
   "metadata": {},
   "outputs": [],
   "source": [
    "df_with_column.write \\\n",
    "    .format(\"csv\") \\\n",
    "    .option(\"header\", \"true\") \\\n",
    "    .mode(\"overwrite\") \\\n",
    "    .save(\"./files/\")"
   ]
  },
  {
   "cell_type": "code",
   "execution_count": 12,
   "id": "fc21414d-3a5a-4709-bf36-592b3d888950",
   "metadata": {},
   "outputs": [
    {
     "name": "stdout",
     "output_type": "stream",
     "text": [
      "+-----------+-----+\n",
      "|       word|count|\n",
      "+-----------+-----+\n",
      "|   Salaries| 1265|\n",
      "|      Sales| 3840|\n",
      "|    income)| 3840|\n",
      "|  Operating| 1265|\n",
      "|      wages| 1265|\n",
      "|  operating| 1265|\n",
      "|expenditure| 1265|\n",
      "|        and| 2530|\n",
      "|  Purchases| 1265|\n",
      "| (operating| 3840|\n",
      "|     profit| 1265|\n",
      "+-----------+-----+\n",
      "\n"
     ]
    }
   ],
   "source": [
    "from pyspark.sql.functions import split, explode\n",
    "df = spark.read.csv('finance.csv', header=True, inferSchema=True)\n",
    "words_df = df.select(explode(split(col(\"Series_title_1\"), \" \")).alias(\"word\"))\n",
    "words_count = words_df.groupBy(\"word\").count()\n",
    "words_count.show()"
   ]
  },
  {
   "cell_type": "code",
   "execution_count": null,
   "id": "f7f3e39b-1c6b-4d41-987e-69443944627c",
   "metadata": {},
   "outputs": [],
   "source": []
  }
 ],
 "metadata": {
  "kernelspec": {
   "display_name": "Python 3 (ipykernel)",
   "language": "python",
   "name": "python3"
  },
  "language_info": {
   "codemirror_mode": {
    "name": "ipython",
    "version": 3
   },
   "file_extension": ".py",
   "mimetype": "text/x-python",
   "name": "python",
   "nbconvert_exporter": "python",
   "pygments_lexer": "ipython3",
   "version": "3.10.12"
  }
 },
 "nbformat": 4,
 "nbformat_minor": 5
}
